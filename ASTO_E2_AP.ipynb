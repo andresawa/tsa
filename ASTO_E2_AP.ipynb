{
 "cells": [
  {
   "cell_type": "markdown",
   "metadata": {},
   "source": [
    "Universidade Federal do Rio Grande  \n",
    "Instituto de Oceanografia  \n",
    "Programa de Pós-graduação em Oceanologia  \n",
    "**Disciplina**: Análises de Séries Temporais em Oceanografia – 2023  \n",
    "**Estudante**: Andrés Eloy Piñango Jauregui (153423)  \n",
    "\n",
    "# Lista de exercícios 2: Teorema do Limite Central & Teste de Estacionaridade\n",
    "****\n",
    "**Atividades**:  "
   ]
  },
  {
   "cell_type": "markdown",
   "metadata": {},
   "source": [
    "### Parte I – Teorema do Limite Central \n",
    "#### 1. Gere uma série aleatória normalizada"
   ]
  },
  {
   "cell_type": "code",
   "execution_count": null,
   "metadata": {},
   "outputs": [],
   "source": [
    "### ------------------------------------------------------------------------------------\n",
    "### Load the libraries to be used in the analysis\n",
    "### ------------------------------------------------------------------------------------\n",
    "import numpy as np\n",
    "import pandas as pd\n",
    "import matplotlib.pyplot as plt\n",
    "import matplotlib.dates as mdates"
   ]
  },
  {
   "cell_type": "code",
   "execution_count": null,
   "metadata": {},
   "outputs": [],
   "source": [
    "### ------------------------------------------------------------------------------------\n",
    "### Create the series and plot the information\n",
    "### ------------------------------------------------------------------------------------\n",
    "rng = np.random.default_rng(seed=7488)\n",
    "n = 3000\n",
    "a = 1\n",
    "b = 100\n",
    "x1 = pd.Series(a * rng.normal(0, 1, n) + b)"
   ]
  },
  {
   "cell_type": "markdown",
   "metadata": {},
   "source": [
    "\n",
    "**a) Calcule a média, a variância e o desvio padrão de x**\n"
   ]
  },
  {
   "cell_type": "code",
   "execution_count": null,
   "metadata": {},
   "outputs": [],
   "source": [
    "print(\n",
    "    f\"A media da serie é {round(x1.mean(), 4)} e seu desvio padrão é {round(x1.std(), 4)}\"\n",
    ")"
   ]
  },
  {
   "cell_type": "code",
   "execution_count": null,
   "metadata": {},
   "outputs": [],
   "source": [
    "### ------------------------------------------------------------------------------------\n",
    "### Plot the histogram\n",
    "### ------------------------------------------------------------------------------------\n",
    "plt.figure(dpi=300)\n",
    "hist = x1.hist(bins=\"auto\")\n",
    "hist.set_xlim(96.5, 103.5)\n",
    "hist.set_title(\"Série normal não segmentada\", loc=\"left\")\n",
    "hist.set_ylabel(\"Counts\")\n",
    "plt.grid(linestyle=\"dashed\", alpha=0.3)\n",
    "plt.show()"
   ]
  },
  {
   "cell_type": "markdown",
   "metadata": {},
   "source": [
    "**b) Divida a série x em segmentos de 2 dados utilizando a função make_segments.m, com overlapping nulo**\n"
   ]
  },
  {
   "cell_type": "code",
   "execution_count": null,
   "metadata": {},
   "outputs": [],
   "source": [
    "### ------------------------------------------------------------------------------------\n",
    "### Define the function to segment the data\n",
    "### ------------------------------------------------------------------------------------\n",
    "def make_segments(series, number_segments):\n",
    "    segmentation = np.array_split(series, number_segments)\n",
    "    mean = pd.Series([array.mean() for array in segmentation])\n",
    "    return mean"
   ]
  },
  {
   "cell_type": "markdown",
   "metadata": {},
   "source": [
    "**c) Calcule a média, a variância e o desvio padrão da série segmentada e plote o histograma da série original e da série segmentada**\n"
   ]
  },
  {
   "cell_type": "code",
   "execution_count": null,
   "metadata": {},
   "outputs": [],
   "source": [
    "### ------------------------------------------------------------------------------------\n",
    "### Segment the series using 2 data points and plot the info\n",
    "### ------------------------------------------------------------------------------------\n",
    "x1_seg2 = make_segments(x1, len(x1) / 2)\n",
    "plt.figure(dpi=300)\n",
    "print(\n",
    "    f\"A media da serie é {round(x1_seg2.mean(), 4)} e seu desvio padrão é {round(x1_seg2.std(), 4)}\"\n",
    ")\n",
    "hist2 = x1_seg2.hist(bins=\"auto\")\n",
    "hist2.set_xlim(96.5, 103.5)\n",
    "hist2.set_title(\"Série normal com segmentos de 2 dados\", loc=\"left\")\n",
    "hist2.set_ylabel(\"Counts\")\n",
    "plt.grid(linestyle=\"dashed\", alpha=0.3)\n",
    "plt.show()"
   ]
  },
  {
   "cell_type": "markdown",
   "metadata": {},
   "source": [
    "**d) Repita (b) e (c) dividindo a série em segmentos de 5 dados**\n"
   ]
  },
  {
   "cell_type": "code",
   "execution_count": null,
   "metadata": {},
   "outputs": [],
   "source": [
    "### ------------------------------------------------------------------------------------\n",
    "### Segment the series using 5 data points and plot the info\n",
    "### ------------------------------------------------------------------------------------\n",
    "x1_seg5 = make_segments(x1, len(x1) / 5)\n",
    "plt.figure(dpi=300)\n",
    "print(\n",
    "    f\"A media da serie é {round(x1_seg5.mean(), 4)} e seu desvio padrão é {round(x1_seg5.std(), 4)}\"\n",
    ")\n",
    "hist3 = x1_seg5.hist(bins=\"auto\")\n",
    "hist3.set_xlim(96.5, 103.5)\n",
    "hist3.set_title(\"Série normal com segmentos de 5 dados\", loc=\"left\")\n",
    "hist3.set_ylabel(\"Counts\")\n",
    "plt.grid(linestyle=\"dashed\", alpha=0.3)\n",
    "plt.show()"
   ]
  },
  {
   "cell_type": "markdown",
   "metadata": {},
   "source": [
    "**e) Repita (b) e (c) dividindo a série em segmentos de 30 dados**\n"
   ]
  },
  {
   "cell_type": "code",
   "execution_count": null,
   "metadata": {},
   "outputs": [],
   "source": [
    "### ------------------------------------------------------------------------------------\n",
    "### Segment the series using 30 data points and plot the info\n",
    "### ------------------------------------------------------------------------------------\n",
    "x1_seg30 = make_segments(x1, len(x1) / 30)\n",
    "plt.figure(dpi=300)\n",
    "print(\n",
    "    f\"A media da serie é {round(x1_seg30.mean(), 4)} e seu desvio padrão é {round(x1_seg30.std(), 4)}\"\n",
    ")\n",
    "hist4 = x1_seg30.hist(bins=\"auto\")\n",
    "hist4.set_xlim(96.5, 103.5)\n",
    "hist4.set_title(\"Série normal com segmentos de 30 dados\", loc=\"left\")\n",
    "hist4.set_ylabel(\"Counts\")\n",
    "plt.grid(linestyle=\"dashed\", alpha=0.3)\n",
    "plt.show()"
   ]
  },
  {
   "cell_type": "markdown",
   "metadata": {},
   "source": [
    "**f) Visualmente, a distribuição das médias dos segmentos obedece a uma ditribuição normal?**\n"
   ]
  },
  {
   "cell_type": "markdown",
   "metadata": {},
   "source": [
    "Sim, visualmente a média dos segmentos obedece a uma distribuição normal. Porém, a medida que o número de segmentos aumenta, o desvio padrão diminue."
   ]
  },
  {
   "cell_type": "markdown",
   "metadata": {},
   "source": [
    "#### 2. Repita os procedimentos (a) a (e) para: \n",
    "``````\n",
    "n = 3000;\n",
    "x = randsample(n,n);\n",
    "``````\n"
   ]
  },
  {
   "cell_type": "code",
   "execution_count": null,
   "metadata": {},
   "outputs": [],
   "source": [
    "### ------------------------------------------------------------------------------------\n",
    "### Create the series and plot the information\n",
    "### ------------------------------------------------------------------------------------\n",
    "n = 3000\n",
    "x2 = pd.Series(rng.integers(1, n + 1, n))\n",
    "print(\n",
    "    f\"A media da serie é {round(x2.mean(), 4)} e seu desvio padrão é {round(x2.std(), 4)}\"\n",
    ")\n",
    "plt.figure(dpi=300)\n",
    "hist = x2.hist(bins=\"auto\")\n",
    "hist.set_xlim(-50, 3050)\n",
    "hist.set_title(\"Série uniforme randomica não segmentada\", loc=\"left\")\n",
    "hist.set_ylabel(\"Counts\")\n",
    "plt.grid(linestyle=\"dashed\", alpha=0.3)\n",
    "plt.show()"
   ]
  },
  {
   "cell_type": "code",
   "execution_count": null,
   "metadata": {},
   "outputs": [],
   "source": [
    "### ------------------------------------------------------------------------------------\n",
    "### Segment the series using 2 data points and plot the info\n",
    "### ------------------------------------------------------------------------------------\n",
    "x2_seg2 = make_segments(x2, len(x1) / 2)\n",
    "plt.figure(dpi=300)\n",
    "print(\n",
    "    f\"A media da serie é {round(x2_seg2.mean(), 4)} e seu desvio padrão é {round(x2_seg2.std(), 4)}\"\n",
    ")\n",
    "hist2 = x2_seg2.hist(bins=\"auto\")\n",
    "hist2.set_xlim(-50, 3050)\n",
    "hist2.set_title(\"Série uniforme randomica com segmentos de 2 dados\", loc=\"left\")\n",
    "hist2.set_ylabel(\"Counts\")\n",
    "plt.grid(linestyle=\"dashed\", alpha=0.3)\n",
    "plt.show()"
   ]
  },
  {
   "cell_type": "code",
   "execution_count": null,
   "metadata": {},
   "outputs": [],
   "source": [
    "### ------------------------------------------------------------------------------------\n",
    "### Segment the series using 5 data points and plot the info\n",
    "### ------------------------------------------------------------------------------------\n",
    "x2_seg5 = make_segments(x2, len(x1) / 5)\n",
    "plt.figure(dpi=300)\n",
    "print(\n",
    "    f\"A media da serie é {round(x2_seg5.mean(), 4)} e seu desvio padrão é {round(x2_seg5.std(), 4)}\"\n",
    ")\n",
    "hist3 = x2_seg5.hist(bins=\"auto\")\n",
    "hist3.set_xlim(-50, 3050)\n",
    "hist3.set_title(\"Série uniforme randomica com segmentos de 5 dados\", loc=\"left\")\n",
    "hist3.set_ylabel(\"Counts\")\n",
    "plt.grid(linestyle=\"dashed\", alpha=0.3)\n",
    "plt.show()"
   ]
  },
  {
   "cell_type": "code",
   "execution_count": null,
   "metadata": {},
   "outputs": [],
   "source": [
    "### ------------------------------------------------------------------------------------\n",
    "### Segment the series using 30 data points and plot the info\n",
    "### ------------------------------------------------------------------------------------\n",
    "x2_seg30 = make_segments(x2, len(x1) / 30)\n",
    "plt.figure(dpi=300)\n",
    "print(\n",
    "    f\"A media da serie é {round(x2_seg30.mean(), 4)} e seu desvio padrão é {round(x2_seg30.std(), 4)}\"\n",
    ")\n",
    "hist4 = x2_seg30.hist(bins=\"auto\")\n",
    "hist4.set_xlim(-50, 3050)\n",
    "hist4.set_title(\"Série uniforme randomica com segmentos de 30 dados\", loc=\"left\")\n",
    "hist4.set_ylabel(\"Counts\")\n",
    "plt.grid(linestyle=\"dashed\", alpha=0.3)\n",
    "plt.show()"
   ]
  },
  {
   "cell_type": "markdown",
   "metadata": {},
   "source": [
    "#### 3. Repita os procedimentos (a) a (e) para: \n",
    "* n = 3000;\n",
    "* x = exppdf(1:n,1000);\n"
   ]
  },
  {
   "cell_type": "code",
   "execution_count": null,
   "metadata": {},
   "outputs": [],
   "source": [
    "### ------------------------------------------------------------------------------------\n",
    "### Create the series and plot the information\n",
    "### ------------------------------------------------------------------------------------\n",
    "n = 3000\n",
    "x3 = pd.Series(rng.exponential(1000, n))\n",
    "print(\n",
    "    f\"A media da serie é {round(x3.mean(), 4)} e seu desvio padrão é {round(x3.std(), 4)}\"\n",
    ")\n",
    "plt.figure(dpi=300)\n",
    "hist = x3.hist(bins=\"auto\")\n",
    "hist.set_title(\"Série exponencial não segmentada\", loc=\"left\")\n",
    "hist.set_ylabel(\"Counts\")\n",
    "plt.grid(linestyle=\"dashed\", alpha=0.3)\n",
    "plt.show()"
   ]
  },
  {
   "cell_type": "code",
   "execution_count": null,
   "metadata": {},
   "outputs": [],
   "source": [
    "### ------------------------------------------------------------------------------------\n",
    "### Segment the series using 2 data points and plot the info\n",
    "### ------------------------------------------------------------------------------------\n",
    "x3_seg2 = make_segments(x3, len(x1) / 2)\n",
    "plt.figure(dpi=300)\n",
    "print(\n",
    "    f\"A media da serie é {round(x3_seg2.mean(), 4)} e seu desvio padrão é {round(x3_seg2.std(), 4)}\"\n",
    ")\n",
    "hist2 = x3_seg2.hist(bins=\"auto\")\n",
    "hist2.set_title(\"Série exponencial com segmentos de 2 dados\", loc=\"left\")\n",
    "hist2.set_ylabel(\"Counts\")\n",
    "plt.grid(linestyle=\"dashed\", alpha=0.3)\n",
    "plt.show()"
   ]
  },
  {
   "cell_type": "code",
   "execution_count": null,
   "metadata": {},
   "outputs": [],
   "source": [
    "### ------------------------------------------------------------------------------------\n",
    "### Segment the series using 5 data points and plot the info\n",
    "### ------------------------------------------------------------------------------------\n",
    "x3_seg5 = make_segments(x3, len(x1) / 5)\n",
    "plt.figure(dpi=300)\n",
    "print(\n",
    "    f\"A media da serie é {round(x3_seg5.mean(), 4)} e seu desvio padrão é {round(x3_seg5.std(), 4)}\"\n",
    ")\n",
    "hist3 = x3_seg5.hist(bins=\"auto\")\n",
    "hist3.set_title(\"Série exponencial com segmentos de 5 dados\", loc=\"left\")\n",
    "hist3.set_ylabel(\"Counts\")\n",
    "plt.grid(linestyle=\"dashed\", alpha=0.3)\n",
    "plt.show()"
   ]
  },
  {
   "cell_type": "code",
   "execution_count": null,
   "metadata": {},
   "outputs": [],
   "source": [
    "### ------------------------------------------------------------------------------------\n",
    "### Segment the series using 30 data points and plot the info\n",
    "### ------------------------------------------------------------------------------------\n",
    "x3_seg30 = make_segments(x3, len(x1) / 30)\n",
    "plt.figure(dpi=300)\n",
    "print(\n",
    "    f\"A media da serie é {round(x3_seg30.mean(), 4)} e seu desvio padrão é {round(x3_seg30.std(), 4)}\"\n",
    ")\n",
    "hist4 = x3_seg30.hist(bins=\"auto\")\n",
    "hist4.set_title(\"Série exponencial com segmentos de 30 dados\", loc=\"left\")\n",
    "hist4.set_ylabel(\"Counts\")\n",
    "plt.grid(linestyle=\"dashed\", alpha=0.3)\n",
    "plt.show()"
   ]
  },
  {
   "cell_type": "markdown",
   "metadata": {},
   "source": [
    "#### 4. Quais as conclusõe que você chega sobre o Teorema do Limite Central?"
   ]
  },
  {
   "cell_type": "markdown",
   "metadata": {},
   "source": [
    "Sem importar a distribuição original dos dados, à medida que o número de observações aumenta, a distribuição dos dados se tornará mais semelhante a uma distribuição normal."
   ]
  },
  {
   "cell_type": "markdown",
   "metadata": {},
   "source": [
    "****\n",
    "### Parte II – Teste de Estacionaridade\n",
    "Qualquer série temporal reflete o sinal estacionário do processo em questão. A série será considerada não estacionária quando existir tendências na média (ou mediana) e variância dos dados.\n",
    "#### 5. Leitura e edição dos dados\n",
    "As funções rand.m e randn.m do Matlab permitem a criação de séries randômicas. A primeira gera uma série de valores uniformemente distribuídos, já a segunda gera uma série de valores normalmente distribuídos. Utilize o comando help na tela de comando do Matlab par visualizar os detalhes de cada uma.  \n",
    "  \n",
    "**a) Leia os dados da série temporal selecionada**\n"
   ]
  },
  {
   "cell_type": "code",
   "execution_count": null,
   "metadata": {},
   "outputs": [],
   "source": [
    "### ------------------------------------------------------------------------------------\n",
    "### Load the saildrone time-series\n",
    "### ------------------------------------------------------------------------------------\n",
    "saildrone_data = pd.read_csv(\"https://raw.githubusercontent.com/andresawa/tsa/main/Data/saildrone_data.csv", parse_dates=[0]).set_index(\n",
    "    \"time\"\n",
    ")\n",
    "saildrone_data"
   ]
  },
  {
   "cell_type": "markdown",
   "metadata": {},
   "source": [
    "**b) Verifique se existem lacunas de dados. Se existirem e forem curtas, use uma interpolação linear (Ex.: myinterp.m)**\n"
   ]
  },
  {
   "cell_type": "code",
   "execution_count": null,
   "metadata": {},
   "outputs": [],
   "source": [
    "### ------------------------------------------------------------------------------------\n",
    "### Fill the gaps using an Piecewise Cubic Hermite Polynomial interpolation\n",
    "### ------------------------------------------------------------------------------------\n",
    "saildrone_filled = saildrone_data.interpolate(\n",
    "    method=\"pchip\", limit_direction=\"forward\", limit_area=\"inside\", axis=0\n",
    ")"
   ]
  },
  {
   "cell_type": "markdown",
   "metadata": {},
   "source": [
    "**c) Edit os dados com a função wildpoint.m**\n"
   ]
  },
  {
   "cell_type": "code",
   "execution_count": null,
   "metadata": {},
   "outputs": [],
   "source": [
    "### ------------------------------------------------------------------------------------\n",
    "### Define the function that edit the time-series\n",
    "### ------------------------------------------------------------------------------------\n",
    "def wild_edit(dataframe, constant):\n",
    "    stdv = dataframe.std()\n",
    "    median_5p = dataframe.rolling(window=5, min_periods=3, center=True).median()\n",
    "    median_3p = median_5p.rolling(window=3, min_periods=2, center=True).median()\n",
    "    difference = abs(dataframe - median_3p)\n",
    "    edited_df = dataframe.copy()\n",
    "    for variable, std_value in enumerate(stdv):\n",
    "        substitution = difference.iloc[:, variable] >= constant * std_value\n",
    "        edited_df.iloc[:, variable][substitution] = median_3p.iloc[:, variable][\n",
    "            substitution\n",
    "        ]\n",
    "    return median_3p, edited_df"
   ]
  },
  {
   "cell_type": "code",
   "execution_count": null,
   "metadata": {},
   "outputs": [],
   "source": [
    "### ------------------------------------------------------------------------------------\n",
    "### Apply the fuction to the data\n",
    "### ------------------------------------------------------------------------------------\n",
    "saildrone_3p, saildrone_edited = wild_edit(saildrone_filled, 3)"
   ]
  },
  {
   "cell_type": "markdown",
   "metadata": {},
   "source": [
    "**d) Plot os dados vs tempo**\n"
   ]
  },
  {
   "cell_type": "code",
   "execution_count": null,
   "metadata": {},
   "outputs": [],
   "source": [
    "### ------------------------------------------------------------------------------------\n",
    "### Plot some of the saildrone variables in the same figure\n",
    "### ------------------------------------------------------------------------------------\n",
    "fig = plt.figure(figsize=(10, 10), dpi=300)\n",
    "ax1 = fig.add_subplot(211)\n",
    "ax2 = fig.add_subplot(212)\n",
    "### Subplot 1: Temperature\n",
    "ax1.plot(saildrone_edited[\"mean_sst\"], color=\"#E71D36\")\n",
    "ax1.set_title(\"Temperatura superficial do mar\", loc=\"left\")\n",
    "ax1.set_ylabel(\"°C\")\n",
    "ax1.grid(linestyle=\"dashed\", alpha=0.3)\n",
    "ax1.xaxis.set_major_locator(mdates.MonthLocator())\n",
    "ax1.xaxis.set_minor_locator(mdates.DayLocator(bymonthday=(7, 14, 21, 28)))\n",
    "ax1.xaxis.set_major_formatter(\n",
    "    mdates.ConciseDateFormatter(ax1.xaxis.get_major_locator())\n",
    ")\n",
    "### Subplot 2: Partial pressure of carbon dioxide in seawater\n",
    "ax2.plot(saildrone_edited[\"pco2_sw\"], color=\"#FF9F1C\")\n",
    "ax2.set_title(\"Pressão parcial CO₂ na água do mar\", loc=\"left\")\n",
    "ax2.set_ylabel(\"μatm\")\n",
    "ax2.grid(linestyle=\"dashed\", alpha=0.3)\n",
    "ax2.xaxis.set_major_locator(mdates.MonthLocator())\n",
    "ax2.xaxis.set_minor_locator(mdates.DayLocator(bymonthday=(7, 14, 21, 28)))\n",
    "ax2.xaxis.set_major_formatter(\n",
    "    mdates.ConciseDateFormatter(ax2.xaxis.get_major_locator())\n",
    ")\n",
    "### Final touch\n",
    "fig.tight_layout(pad=0.2)\n",
    "plt.show()"
   ]
  },
  {
   "cell_type": "markdown",
   "metadata": {},
   "source": [
    "**e) Verifique se existe alguma tendência. Se existir, plote a série com a tendência removida**\n"
   ]
  },
  {
   "cell_type": "code",
   "execution_count": null,
   "metadata": {},
   "outputs": [],
   "source": [
    "### ------------------------------------------------------------------------------------\n",
    "### Define a function to detrend the data\n",
    "### ------------------------------------------------------------------------------------\n",
    "def cubic_detrend(series):\n",
    "    new_series = series.reset_index(drop=True)\n",
    "    clean_series = new_series.dropna()\n",
    "    regression = np.polynomial.Polynomial.fit(\n",
    "        clean_series.index.values, clean_series.values, deg=3\n",
    "    )\n",
    "    coef = regression.convert().coef\n",
    "    detrended_series = series - (\n",
    "        (coef[3] * new_series.index.values**3)\n",
    "        + (coef[2] * new_series.index.values**2)\n",
    "        + (coef[1] * new_series.index.values)\n",
    "        + coef[0]\n",
    "    )\n",
    "    return detrended_series"
   ]
  },
  {
   "cell_type": "code",
   "execution_count": null,
   "metadata": {},
   "outputs": [],
   "source": [
    "### ------------------------------------------------------------------------------------\n",
    "### Detrend the data using a cubic interpolation\n",
    "### ------------------------------------------------------------------------------------\n",
    "sst_detrend = cubic_detrend(saildrone_edited[\"mean_sst\"])\n",
    "pco2_detrend = cubic_detrend(saildrone_edited[\"pco2_sw\"])\n",
    "# Plot\n",
    "fig = plt.figure(figsize=(10, 10), dpi=300)\n",
    "ax1 = fig.add_subplot(211)\n",
    "ax2 = fig.add_subplot(212)\n",
    "### Subplot 1: Temperature\n",
    "ax1.plot(sst_detrend, color=\"#E71D36\")\n",
    "ax1.set_title(\"Temperatura superficial do mar\", loc=\"left\")\n",
    "ax1.set_ylabel(\"°C\")\n",
    "ax1.grid(linestyle=\"dashed\", alpha=0.3)\n",
    "ax1.xaxis.set_major_locator(mdates.MonthLocator())\n",
    "ax1.xaxis.set_minor_locator(mdates.DayLocator(bymonthday=(7, 14, 21, 28)))\n",
    "ax1.xaxis.set_major_formatter(\n",
    "    mdates.ConciseDateFormatter(ax1.xaxis.get_major_locator())\n",
    ")\n",
    "### Subplot 2: Partial pressure of carbon dioxide in seawater\n",
    "ax2.plot(pco2_detrend, color=\"#FF9F1C\")\n",
    "ax2.set_title(\"Pressão parcial CO₂ na água do mar\", loc=\"left\")\n",
    "ax2.set_ylabel(\"μatm\")\n",
    "ax2.grid(linestyle=\"dashed\", alpha=0.3)\n",
    "ax2.xaxis.set_major_locator(mdates.MonthLocator())\n",
    "ax2.xaxis.set_minor_locator(mdates.DayLocator(bymonthday=(7, 14, 21, 28)))\n",
    "ax2.xaxis.set_major_formatter(\n",
    "    mdates.ConciseDateFormatter(ax2.xaxis.get_major_locator())\n",
    ")\n",
    "### Final touch\n",
    "fig.tight_layout(pad=0.2)\n",
    "plt.show()"
   ]
  },
  {
   "cell_type": "markdown",
   "metadata": {},
   "source": [
    "**f) Divida a série em segmentos usando a função make_segments.m**\n"
   ]
  },
  {
   "cell_type": "code",
   "execution_count": null,
   "metadata": {},
   "outputs": [],
   "source": [
    "### ------------------------------------------------------------------------------------\n",
    "### Define the function to segment the data and calculate the median and the variance\n",
    "### ------------------------------------------------------------------------------------\n",
    "def make_segments2(series, number_segments):\n",
    "    segmentation = np.array_split(\n",
    "        series, number_segments\n",
    "    )  # array split allows sub-arrays of near-equal size, i.e. any number segment\n",
    "    median = pd.Series([array.median() for array in segmentation])\n",
    "    variance = pd.Series([array.var() for array in segmentation])\n",
    "    return median, variance"
   ]
  },
  {
   "cell_type": "markdown",
   "metadata": {},
   "source": [
    "**g) Calcule a mediana e a variância de cada segmento**\n"
   ]
  },
  {
   "cell_type": "code",
   "execution_count": null,
   "metadata": {},
   "outputs": [],
   "source": [
    "### ------------------------------------------------------------------------------------\n",
    "### Segment the data and calculate the median and the variance\n",
    "### ------------------------------------------------------------------------------------\n",
    "# SST\n",
    "sst_seg_mean = make_segments(sst_detrend, 200)\n",
    "sst_seg_med, sst_seg_var = make_segments2(sst_detrend, 200)\n",
    "# pCO2\n",
    "pco2_seg_mean = make_segments(pco2_detrend, 200)\n",
    "pco2_seg_med, pco2_seg_var = make_segments2(pco2_detrend, 200)"
   ]
  },
  {
   "cell_type": "markdown",
   "metadata": {},
   "source": [
    "**h) Aplique a rotina RunTest.m nos valores da média e da variância dos segmentos de dados. Comente os resultados**\n"
   ]
  },
  {
   "cell_type": "code",
   "execution_count": null,
   "metadata": {},
   "outputs": [],
   "source": [
    "### ------------------------------------------------------------------------------------\n",
    "### Implement the function RunTest in Python\n",
    "### ------------------------------------------------------------------------------------\n",
    "def runtest(series):\n",
    "    modified_series = series - series.median()\n",
    "    modified_series.loc[modified_series >= 0] = 1\n",
    "    modified_series.loc[modified_series < 0] = -1\n",
    "    run = 1\n",
    "    for index, value in enumerate(modified_series):\n",
    "        if index < len(modified_series) - 1:\n",
    "            if value != modified_series[index + 1]:\n",
    "                run = run + 1\n",
    "        if index == len(modified_series) - 1:\n",
    "            if value != modified_series[index - 1]:\n",
    "                run = run + 1\n",
    "    upper, lower = (\n",
    "        113,\n",
    "        86,\n",
    "    )  # Values taken from the table with n/2 = 100 and alpha = 0.05\n",
    "    if (run < upper) & (run > lower):\n",
    "        print(f\"{upper} <= {run} <= {lower}\")\n",
    "        print(\n",
    "            \"True - Time-series passed stationarity (Run) test at the 5% sigificance level\"\n",
    "        )\n",
    "    else:\n",
    "        print(f\"{upper} <= {run} <= {lower}\")\n",
    "        print(\n",
    "            \"False - Time-series is not stationary (Run Test) at the 5% sigificance level\"\n",
    "        )\n",
    "    del run"
   ]
  },
  {
   "cell_type": "code",
   "execution_count": null,
   "metadata": {},
   "outputs": [],
   "source": [
    "### ------------------------------------------------------------------------------------\n",
    "### Apply the test to the SST data\n",
    "### ------------------------------------------------------------------------------------\n",
    "print(\"Mean:\")\n",
    "runtest(sst_seg_mean)\n",
    "print(\"Variance:\")\n",
    "runtest(sst_seg_var)"
   ]
  },
  {
   "cell_type": "code",
   "execution_count": null,
   "metadata": {},
   "outputs": [],
   "source": [
    "### ------------------------------------------------------------------------------------\n",
    "### Apply the test to the pCO2 data\n",
    "### ------------------------------------------------------------------------------------\n",
    "print(\"Mean:\")\n",
    "runtest(pco2_seg_mean)\n",
    "print(\"Variance:\")\n",
    "runtest(pco2_seg_var)"
   ]
  },
  {
   "cell_type": "markdown",
   "metadata": {},
   "source": [
    "Os resultados mostram que as séries avaliadas (temperatura e pco2) não são estacionárias, mesmo tendo sua tendência removida. Uma das possíveis causas destes resultados pode ser devido à natureza dos dados: eles foram coletados num saildrone, o qual se movimentou ao longo de todo o oceano austral, tendo assim, além das variações temporais, variações espaciais. Além disso, o tempo de amostragem é relativamente curto, o que não permite avaliar bem a estacionariedade dos dados."
   ]
  }
 ],
 "metadata": {
  "kernelspec": {
   "display_name": "science",
   "language": "python",
   "name": "python3"
  },
  "language_info": {
   "codemirror_mode": {
    "name": "ipython",
    "version": 3
   },
   "file_extension": ".py",
   "mimetype": "text/x-python",
   "name": "python",
   "nbconvert_exporter": "python",
   "pygments_lexer": "ipython3",
   "version": "3.11.6"
  },
  "orig_nbformat": 4
 },
 "nbformat": 4,
 "nbformat_minor": 2
}
