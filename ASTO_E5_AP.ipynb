{
 "cells": [
  {
   "cell_type": "markdown",
   "metadata": {},
   "source": [
    "Universidade Federal do Rio Grande  \n",
    "Instituto de Oceanografia  \n",
    "Programa de Pós-graduação em Oceanologia  \n",
    "**Disciplina**: Análises de Séries Temporais em Oceanografia – 2023  \n",
    "**Estudante**: Andrés Eloy Piñango Jauregui (153423)  \n",
    "\n",
    "# Lista de exercícios 5: Análises Espectrais   \n",
    "****\n",
    "**Atividades**:  \n",
    "Neste exercício, as séries temporais de temperatura, salinidade, concentração de clorofila-a, concentração de matéria orgânica dissolvida e turbidez, da bóia SiMCosta SP01 fornecidas pelo Water Quality Monitoring (WQM), são utilizadas como exemplo para as análises espectrais. As séries possuem 2048 dados horários (para cada variável) e estão disponíveis em http://www.simcosta.furg.br/  "
   ]
  },
  {
   "cell_type": "markdown",
   "metadata": {},
   "source": [
    "****\n",
    "### Parte 1: Série de Fourier \n",
    "#### 1. Visualização dos dados\n",
    "**a) Antes de iniciar as atividades, verifique o tamanho das séries. Observe a qualidade dos dados, e que eles já foram interpolados**"
   ]
  },
  {
   "cell_type": "code",
   "execution_count": null,
   "metadata": {},
   "outputs": [],
   "source": [
    "### ------------------------------------------------------------------------------------\n",
    "### Load the libraries to be used in the analysis\n",
    "### ------------------------------------------------------------------------------------\n",
    "import numpy as np\n",
    "import pandas as pd\n",
    "import matplotlib.pyplot as plt\n",
    "from scipy import io\n",
    "from scipy import stats\n",
    "from scipy import signal"
   ]
  },
  {
   "cell_type": "code",
   "execution_count": null,
   "metadata": {},
   "outputs": [],
   "source": [
    "### ------------------------------------------------------------------------------------\n",
    "### Load the mat file\n",
    "### ------------------------------------------------------------------------------------\n",
    "data = io.loadmat(\"./Data/simcosta_sp1_clean2.mat\")"
   ]
  },
  {
   "cell_type": "code",
   "execution_count": null,
   "metadata": {},
   "outputs": [],
   "source": [
    "### ------------------------------------------------------------------------------------\n",
    "### Transform the data into a table\n",
    "### ------------------------------------------------------------------------------------\n",
    "simcosta = pd.DataFrame(\n",
    "    {\n",
    "        \"temp\": data[\"T2\"].flatten(),\n",
    "        \"sal\": data[\"S2\"].flatten(),\n",
    "        \"chla\": data[\"chla2\"].flatten(),\n",
    "        \"turb\": data[\"Turb2\"].flatten(),\n",
    "        \"cdom\": data[\"CDOM2\"].flatten(),\n",
    "    }\n",
    ")"
   ]
  },
  {
   "cell_type": "code",
   "execution_count": null,
   "metadata": {},
   "outputs": [],
   "source": [
    "### ------------------------------------------------------------------------------------\n",
    "### Transform the time values to actual time data & print the size\n",
    "### ------------------------------------------------------------------------------------\n",
    "simcosta[\"time\"] = pd.date_range(\n",
    "    start=\"2015-06-29T08:00:00\", periods=len(simcosta[\"temp\"]), freq=\"1H\"\n",
    ")\n",
    "simcosta = simcosta.set_index(\"time\")\n",
    "simcosta"
   ]
  },
  {
   "cell_type": "markdown",
   "metadata": {},
   "source": [
    "**b) Plote as séries na mesma figura (subplot.m)**"
   ]
  },
  {
   "cell_type": "code",
   "execution_count": null,
   "metadata": {},
   "outputs": [],
   "source": [
    "### ------------------------------------------------------------------------------------\n",
    "### Plot the simcosta data\n",
    "### ------------------------------------------------------------------------------------\n",
    "fig = plt.figure(figsize=(10, 12.5), dpi=300)\n",
    "ax1 = fig.add_subplot(511)\n",
    "ax2 = fig.add_subplot(512)\n",
    "ax3 = fig.add_subplot(513)\n",
    "ax4 = fig.add_subplot(514)\n",
    "ax5 = fig.add_subplot(515)\n",
    "### Subplot 1: temp\n",
    "simcosta.temp.plot(ax=ax1, color=\"red\")\n",
    "ax1.grid(linestyle=\"dashed\", alpha=0.3)\n",
    "ax1.set_title(\"Temperature SP01\", loc=\"left\")\n",
    "ax1.set_ylabel(\"°C\")\n",
    "ax1.set_xlabel(None)\n",
    "ax1.set_xticks([])\n",
    "### Subplot 2: sal\n",
    "simcosta.sal.plot(ax=ax2, color=\"blue\")\n",
    "ax2.grid(linestyle=\"dashed\", alpha=0.3)\n",
    "ax2.set_title(\"Salinity SP01\", loc=\"left\")\n",
    "ax2.set_ylabel(\"psu\")\n",
    "ax2.set_xlabel(None)\n",
    "ax2.set_xticks([])\n",
    "### Subplot 3: chla\n",
    "simcosta.chla.plot(ax=ax3, color=\"green\")\n",
    "ax3.grid(linestyle=\"dashed\", alpha=0.3)\n",
    "ax3.set_title(\"Chlorophyll-a SP01\", loc=\"left\")\n",
    "ax3.set_ylabel(\"µg $L^{-1}$\")\n",
    "ax3.set_xlabel(None)\n",
    "ax3.set_xticks([])\n",
    "### Subplot 4: turb\n",
    "simcosta.turb.plot(ax=ax4, color=\"brown\")\n",
    "ax4.grid(linestyle=\"dashed\", alpha=0.3)\n",
    "ax4.set_title(\"Turbiduity SP01\", loc=\"left\")\n",
    "ax4.set_ylabel(\"NTU\")\n",
    "ax4.set_xlabel(None)\n",
    "ax4.set_xticks([])\n",
    "### Subplot 2: cdom\n",
    "simcosta.cdom.plot(ax=ax5, color=\"#C0DD55\")\n",
    "ax5.grid(linestyle=\"dashed\", alpha=0.3)\n",
    "ax5.set_title(\"Coloured dissolved organic matter SP01\", loc=\"left\")\n",
    "ax5.set_ylabel(\"ppb $QSDE^{-1}$\")\n",
    "ax5.set_xlabel(None)\n",
    "### Final touch\n",
    "fig.tight_layout()\n",
    "plt.show()"
   ]
  },
  {
   "cell_type": "markdown",
   "metadata": {},
   "source": [
    "#### 2. Análises espectrais com as séries de alta frequência\n",
    "**a) Utilize um filtro passa-baixa para remover as altas frequências das séries, aplicando a função smoth com span da ordem de 3 dias (i.e. T1 = smooth(T,3*24,’loess’)). Armazene os dados filtrados em novas variáveis**"
   ]
  },
  {
   "cell_type": "code",
   "execution_count": null,
   "metadata": {},
   "outputs": [],
   "source": [
    "### ------------------------------------------------------------------------------------\n",
    "### Filter (low-pass) the simcosta data\n",
    "### ------------------------------------------------------------------------------------\n",
    "# Instead of loess (local regression using weighted linear least squares and a 2nd \n",
    "# degree polynomial mode), I'm using a Savitzky-Golay filter (a generalized moving \n",
    "# average with filter coefficients determined by an unweighted linear least-squares \n",
    "# regression and a 2nd degree polynomial model).\n",
    "simcosta_lp = pd.DataFrame(\n",
    "    {\n",
    "        \"temp\": signal.savgol_filter(simcosta.temp, 3 * 24, 2),\n",
    "        \"sal\": signal.savgol_filter(simcosta.sal, 3 * 24, 2),\n",
    "        \"chla\": signal.savgol_filter(simcosta.chla, 3 * 24, 2),\n",
    "        \"turb\": signal.savgol_filter(simcosta.turb, 3 * 24, 2),\n",
    "        \"cdom\": signal.savgol_filter(simcosta.cdom, 3 * 24, 2),\n",
    "        \"time\": simcosta.index,\n",
    "    }\n",
    ")\n",
    "simcosta_lp = simcosta_lp.set_index(\"time\")"
   ]
  },
  {
   "cell_type": "markdown",
   "metadata": {},
   "source": [
    "**b) Subtraia os dados filtrados das séries originais. Ou seja, a resultante será uma variável com a alta frequência (filtro passa-alta). Armazene o resultado em outra variável**"
   ]
  },
  {
   "cell_type": "code",
   "execution_count": null,
   "metadata": {},
   "outputs": [],
   "source": [
    "### ------------------------------------------------------------------------------------\n",
    "### Filter (high-pass) the simcosta data\n",
    "### ------------------------------------------------------------------------------------\n",
    "simcosta_hp = simcosta - simcosta_lp"
   ]
  },
  {
   "cell_type": "markdown",
   "metadata": {},
   "source": [
    "**c) Com o banco de dados de alta frequência, faça um estudo de densidade espectral de potência (PSD) para as variáveis temperatura, clorofila e CDOM. Utilize a função g_power.m ou outra de sua preferência. Faça gráficos de PSD x frequência, utilizando plot.m** \n"
   ]
  },
  {
   "cell_type": "code",
   "execution_count": null,
   "metadata": {},
   "outputs": [],
   "source": [
    "### ------------------------------------------------------------------------------------\n",
    "### Normalize the high frequency data\n",
    "### ------------------------------------------------------------------------------------\n",
    "simcosta_hp_norm = simcosta_hp.apply(stats.zscore)"
   ]
  },
  {
   "cell_type": "code",
   "execution_count": null,
   "metadata": {},
   "outputs": [],
   "source": [
    "### ------------------------------------------------------------------------------------\n",
    "### Calculate the Power Spectral Density (PSD) for the high frequency data\n",
    "### ------------------------------------------------------------------------------------\n",
    "# fs = 24 define day as the unit (1 day have 24 data points)\n",
    "temp_hp_psd = signal.periodogram(simcosta_hp_norm.temp, fs=24, scaling=\"density\")\n",
    "chla_hp_psd = signal.periodogram(simcosta_hp_norm.chla, fs=24, scaling=\"density\")\n",
    "cdom_hp_psd = signal.periodogram(simcosta_hp_norm.cdom, fs=24, scaling=\"density\")"
   ]
  },
  {
   "cell_type": "code",
   "execution_count": null,
   "metadata": {},
   "outputs": [],
   "source": [
    "### ------------------------------------------------------------------------------------\n",
    "### Plot the Power Spectral Density (PSD) for the high frequency data\n",
    "### ------------------------------------------------------------------------------------\n",
    "fig = plt.figure(figsize=(10, 7.5), dpi=300)\n",
    "ax1 = fig.add_subplot(311)\n",
    "ax2 = fig.add_subplot(312)\n",
    "ax3 = fig.add_subplot(313)\n",
    "### Subplot 1: Temp\n",
    "ax1.semilogx(temp_hp_psd[0], temp_hp_psd[1], color=\"red\")\n",
    "ax1.grid(linestyle=\"dashed\", alpha=0.3)\n",
    "ax1.set_title(\"Temperature (high-pass) power spectral density\", loc=\"left\")\n",
    "ax1.set_ylabel(\"PSD\")\n",
    "ax1.set_ylim(0, 15)\n",
    "### Subplot 2: Chla\n",
    "ax2.semilogx(chla_hp_psd[0], chla_hp_psd[1], color=\"green\")\n",
    "ax2.grid(linestyle=\"dashed\", alpha=0.3)\n",
    "ax2.set_title(\"Chlorophyll-a (high-pass) power spectral density\", loc=\"left\")\n",
    "ax2.set_ylabel(\"PSD\")\n",
    "ax2.set_ylim(0, 15)\n",
    "### Subplot 3: CDOM\n",
    "ax3.semilogx(cdom_hp_psd[0], cdom_hp_psd[1], color=\"#C0DD55\")\n",
    "ax3.grid(linestyle=\"dashed\", alpha=0.3)\n",
    "ax3.set_title(\n",
    "    \"Colored dissolved organic matter (high-pass) power spectral density\", loc=\"left\"\n",
    ")\n",
    "ax3.set_xlabel(\"Frequency (cycles day$^{-1}$)\")\n",
    "ax3.set_ylabel(\"PSD\")\n",
    "ax3.set_ylim(0, 15)\n",
    "### Final touch\n",
    "fig.tight_layout()\n",
    "plt.show()"
   ]
  },
  {
   "cell_type": "markdown",
   "metadata": {},
   "source": [
    "**d) Repita o mesmo estudo utilizando os dados de baixa frequência**"
   ]
  },
  {
   "cell_type": "code",
   "execution_count": null,
   "metadata": {},
   "outputs": [],
   "source": [
    "### ------------------------------------------------------------------------------------\n",
    "### Normalize the low frequency data\n",
    "### ------------------------------------------------------------------------------------\n",
    "simcosta_lp_norm = simcosta_lp.apply(stats.zscore)"
   ]
  },
  {
   "cell_type": "code",
   "execution_count": null,
   "metadata": {},
   "outputs": [],
   "source": [
    "### ------------------------------------------------------------------------------------\n",
    "### Calculate the Power Spectral Density (PSD) for the low frequency data\n",
    "### ------------------------------------------------------------------------------------\n",
    "temp_lp_psd = signal.periodogram(simcosta_lp_norm.temp, fs=24, scaling=\"density\")\n",
    "chla_lp_psd = signal.periodogram(simcosta_lp_norm.chla, fs=24, scaling=\"density\")\n",
    "cdom_lp_psd = signal.periodogram(simcosta_lp_norm.cdom, fs=24, scaling=\"density\")"
   ]
  },
  {
   "cell_type": "code",
   "execution_count": null,
   "metadata": {},
   "outputs": [],
   "source": [
    "### ------------------------------------------------------------------------------------\n",
    "### Plot the Power Spectral Density (PSD) for the low frequency data\n",
    "### ------------------------------------------------------------------------------------\n",
    "fig = plt.figure(figsize=(10, 7.5), dpi=300)\n",
    "ax1 = fig.add_subplot(311)\n",
    "ax2 = fig.add_subplot(312)\n",
    "ax3 = fig.add_subplot(313)\n",
    "### Subplot 1: Temp\n",
    "ax1.semilogx(temp_lp_psd[0], temp_lp_psd[1], color=\"red\")\n",
    "ax1.grid(linestyle=\"dashed\", alpha=0.3)\n",
    "ax1.set_title(\"Temperature (low-pass) power spectral density\", loc=\"left\")\n",
    "ax1.set_ylabel(\"PSD\")\n",
    "ax1.set_ylim(0, 30)\n",
    "### Subplot 2: Chla\n",
    "ax2.semilogx(chla_lp_psd[0], chla_lp_psd[1], color=\"green\")\n",
    "ax2.grid(linestyle=\"dashed\", alpha=0.3)\n",
    "ax2.set_title(\"Chlorophyll-a (low-pass) power spectral density\", loc=\"left\")\n",
    "ax2.set_ylabel(\"PSD\")\n",
    "ax2.set_ylim(0, 30)\n",
    "### Subplot 3: cdom\n",
    "ax3.semilogx(cdom_lp_psd[0], cdom_lp_psd[1], color=\"#C0DD55\")\n",
    "ax3.grid(linestyle=\"dashed\", alpha=0.3)\n",
    "ax3.set_title(\n",
    "    \"Colored dissolved organic matter (low-pass) power spectral density\", loc=\"left\"\n",
    ")\n",
    "ax3.set_xlabel(\"Frequency (cycles day$^{-1}$)\")\n",
    "ax3.set_ylabel(\"PSD\")\n",
    "ax3.set_ylim(0, 30)\n",
    "### Final touch\n",
    "fig.tight_layout()\n",
    "plt.show()"
   ]
  },
  {
   "cell_type": "markdown",
   "metadata": {},
   "source": [
    "**e) Discuta os resultados**"
   ]
  },
  {
   "cell_type": "markdown",
   "metadata": {},
   "source": [
    "Ao comparar os periodogramas, torna-se evidente o efeito dos filtros nas frequências. Usando um filtro passa-baixa (Savitzky-Golay), somente aquelas frequências menores que ~0.3 ciclos por dia foram conservadas nos dados de temperatura, clorofila e matéria orgânica dissolvida. Para temperatura e clorofila, a frequência dominante na baixa frequência foi de aproximadamente 0.01 ciclos por dia, o que corresponde a um período de ~100 dias. Para matéria orgânica dissolvida, o pico de máxima frequência na baixa frequência situa-se em ~0.06 ciclos por dia, o que corresponde a um período de aproximadamente 17 dias.  \n",
    "  \n",
    "Analisando agora os resultados na alta frequência, os picos dominantes para as três variáveis avaliadas correspondem a 1 ciclo por dia (período de 1 dia). Pode-se observar, para temperatura e clorofila, outro pico em uma frequência de 2 ciclos por dia, que pode ser associado ao ciclo dia-noite.  "
   ]
  },
  {
   "cell_type": "markdown",
   "metadata": {},
   "source": [
    "****\n",
    "### Parte II – Análises Espectrais utilizando os métodos de Welch & Lamb  \n",
    "Para esse exercício, é recomendada a utilização do arquivo de dados freqanal.dat_, que contém uma série temporal de t = 0 a 10 segundos, com medidas a cada 0.005 segundos. A série contém três frequências e algum ruído.  "
   ]
  },
  {
   "cell_type": "code",
   "execution_count": null,
   "metadata": {},
   "outputs": [],
   "source": [
    "### ------------------------------------------------------------------------------------\n",
    "### Load the freqanual file\n",
    "### ------------------------------------------------------------------------------------\n",
    "freqanual = pd.read_table(\"./Data/freqanual.dat\", names=[\"values\"]).squeeze()"
   ]
  },
  {
   "cell_type": "markdown",
   "metadata": {},
   "source": [
    "#### 3.\tAnálises Espectrais com o Método de Welch  \n",
    "**a)\tUtilizando a função spectrum.welch.m (ou pwelch.m) e psd.m para fazer uma análise espectral, identifique as frequências dominantes e a relativa potência associada a cada frequência. Teste diferentes segmentos (64, 128, 256). Comente os resultados**"
   ]
  },
  {
   "cell_type": "code",
   "execution_count": null,
   "metadata": {},
   "outputs": [],
   "source": [
    "### ------------------------------------------------------------------------------------\n",
    "### Calculate the Power Spectral Density (PSD) for the low freqanual data\n",
    "### ------------------------------------------------------------------------------------\n",
    "freq_psd64 = signal.welch(freqanual, fs=201, window=\"hamming\", nperseg=64)\n",
    "freq_psd128 = signal.welch(freqanual, fs=201, window=\"hamming\", nperseg=128)\n",
    "freq_psd256 = signal.welch(freqanual, fs=201, window=\"hamming\", nperseg=256)"
   ]
  },
  {
   "cell_type": "code",
   "execution_count": null,
   "metadata": {},
   "outputs": [],
   "source": [
    "### ------------------------------------------------------------------------------------\n",
    "### Plot the Power Spectral Density (PSD) for the low freqanual data\n",
    "### ------------------------------------------------------------------------------------\n",
    "fig = plt.figure(figsize=(10, 10), dpi=300)\n",
    "ax1 = fig.add_subplot(311)\n",
    "ax1.semilogy(freq_psd64[0], freq_psd64[1], color=\"red\", label=\"N = 64\")\n",
    "ax1.semilogy(freq_psd128[0], freq_psd128[1], color=\"green\", label=\"N = 128\")\n",
    "ax1.semilogy(\n",
    "    freq_psd256[0], freq_psd256[1], color=\"blue\", label=\"N = 256\"\n",
    ")\n",
    "ax1.grid(linestyle=\"dashed\", alpha=0.3)\n",
    "ax1.set_title(\"Freqanual power spectral density using Welch’s method\", loc=\"left\")\n",
    "ax1.set_ylabel(\"PSD\")\n",
    "ax1.set_xlabel(\"Frequency (Hz)\")\n",
    "ax1.set_ylim(1e-3, 1e1)\n",
    "ax1.legend()\n",
    "### Final touch\n",
    "fig.tight_layout()\n",
    "plt.show()"
   ]
  },
  {
   "cell_type": "markdown",
   "metadata": {},
   "source": [
    "No periodograma resultante, três frequências dominantes são claramente identificáveis: a principal em torno de 18Hz, a subsequente aproximadamente em 55Hz e a última em 85Hz. Estas três frequências foram detectadas independentemente do número de dados por segmento. No entanto, a diferença mais notável é a redução do comprimento dos picos à medida que o número de dados nos segmentos aumenta, bem como a emergência de múltiplos picos secundários. Em resumo, ao utilizar segmentos com mais dados no método de Welch, há uma melhoria na resolução, otimizando a identificação dos picos."
   ]
  },
  {
   "cell_type": "markdown",
   "metadata": {},
   "source": [
    "**b) Agora adicione à série uma componente de frequência adicional de 110Hz e refaça o item (a). Por exemplo:**\n",
    "```\n",
    "T = 0:0.005:10;\n",
    "y = freqanal’;\n",
    "f = 110;\n",
    "y = y+3*sin(2*pi*f*t);\n",
    "```"
   ]
  },
  {
   "cell_type": "code",
   "execution_count": null,
   "metadata": {},
   "outputs": [],
   "source": [
    "### ------------------------------------------------------------------------------------\n",
    "### Add the 110Hz frequency to the data\n",
    "### ------------------------------------------------------------------------------------\n",
    "freqanual2 = freqanual + (3 * np.sin(2 * np.pi * 110 * np.linspace(0, 10, 2001)))"
   ]
  },
  {
   "cell_type": "code",
   "execution_count": null,
   "metadata": {},
   "outputs": [],
   "source": [
    "### ------------------------------------------------------------------------------------\n",
    "### Calculate the Power Spectral Density (PSD) for the low freqanual2 data\n",
    "### ------------------------------------------------------------------------------------\n",
    "freq2_psd64 = signal.welch(freqanual2, fs=201, window=\"hamming\", nperseg=64)\n",
    "freq2_psd128 = signal.welch(freqanual2, fs=201, window=\"hamming\", nperseg=128)\n",
    "freq2_psd256 = signal.welch(freqanual2, fs=201, window=\"hamming\", nperseg=256)"
   ]
  },
  {
   "cell_type": "code",
   "execution_count": null,
   "metadata": {},
   "outputs": [],
   "source": [
    "### ------------------------------------------------------------------------------------\n",
    "### Plot the Power Spectral Density (PSD) for the low freqanual2 data\n",
    "### ------------------------------------------------------------------------------------\n",
    "fig = plt.figure(figsize=(10, 3.5), dpi=300)\n",
    "ax1 = fig.add_subplot(111)\n",
    "ax1.semilogy(freq2_psd64[0], freq2_psd64[1], color=\"red\", label=\"N = 64\")\n",
    "ax1.semilogy(freq2_psd128[0], freq2_psd128[1], color=\"green\", label=\"N = 128\")\n",
    "ax1.semilogy(\n",
    "    freq2_psd256[0], freq2_psd256[1], color=\"blue\", label=\"N = 256\"\n",
    ")\n",
    "ax1.grid(linestyle=\"dashed\", alpha=0.3)\n",
    "ax1.set_title(\"Freqanual power spectral density using Welch’s method\", loc=\"left\")\n",
    "ax1.set_ylabel(\"PSD\")\n",
    "ax1.set_xlabel(\"Frequency (Hz)\")\n",
    "ax1.set_ylim(1e-3, 1e1)\n",
    "ax1.legend()\n",
    "### Final touch\n",
    "fig.tight_layout()\n",
    "plt.show()"
   ]
  },
  {
   "cell_type": "markdown",
   "metadata": {},
   "source": [
    "**c) Comente sobre os novos picos de potências. Onde eles aparecem?**"
   ]
  },
  {
   "cell_type": "markdown",
   "metadata": {},
   "source": [
    "Além dos picos nas frequências descritos anteriormente, apareceu um novo pico em uma frequência de ~90Hz."
   ]
  },
  {
   "cell_type": "markdown",
   "metadata": {},
   "source": [
    "### 4. Análises Espectrais com o Método de Lomb"
   ]
  },
  {
   "cell_type": "markdown",
   "metadata": {},
   "source": [
    "**a) Utilizando os arquivos `tu.dat` (dados independentes - tempo) e `fu.dat` (dados dependentes – variável x) que são dados distribuidos não uniformemente no domínio do tempo. Faça um histograma do logaritmo (base 10) dos intervalos da amostra**\n"
   ]
  },
  {
   "cell_type": "code",
   "execution_count": null,
   "metadata": {},
   "outputs": [],
   "source": [
    "### ------------------------------------------------------------------------------------\n",
    "### Load the data\n",
    "### ------------------------------------------------------------------------------------\n",
    "time_lomb = pd.read_table(\"./Data/tu.dat\", names=[\"time\"]).squeeze()\n",
    "values_lomb = pd.read_table(\"./Data/fu.dat\", names=[\"values\"]).squeeze()"
   ]
  },
  {
   "cell_type": "code",
   "execution_count": null,
   "metadata": {},
   "outputs": [],
   "source": [
    "### ------------------------------------------------------------------------------------\n",
    "### Plot the histogram\n",
    "### ------------------------------------------------------------------------------------\n",
    "diff = pd.Series(np.log10(np.diff(time_lomb)))\n",
    "fig = plt.figure(figsize=(8, 3.5), dpi=300)\n",
    "ax1 = fig.add_subplot(111)\n",
    "diff.hist(ax=ax1)\n",
    "ax1.set_ylabel(\"%\")\n",
    "ax1.set_xlabel(\"Log10(Delta-T)(s)\")\n",
    "ax1.grid(linestyle=\"dashed\", alpha=0.3)\n",
    "ax1.set_title(\"Histogram intervals\", loc=\"left\")\n",
    "### Final touch\n",
    "fig.tight_layout()\n",
    "plt.show()"
   ]
  },
  {
   "cell_type": "markdown",
   "metadata": {},
   "source": [
    "**b) Faça o espectro dos dados usando o método de Lomb (lomb.m)**"
   ]
  },
  {
   "cell_type": "code",
   "execution_count": null,
   "metadata": {},
   "outputs": [],
   "source": [
    "### ------------------------------------------------------------------------------------\n",
    "### Apply the Lomb method\n",
    "### ------------------------------------------------------------------------------------\n",
    "frequs = np.linspace(0.01, 1000, 20000)\n",
    "lomb = signal.lombscargle(time_lomb, values_lomb, frequs, normalize=True)"
   ]
  },
  {
   "cell_type": "code",
   "execution_count": null,
   "metadata": {},
   "outputs": [],
   "source": [
    "### ------------------------------------------------------------------------------------\n",
    "### Plot the Lomb results\n",
    "### ------------------------------------------------------------------------------------\n",
    "fig = plt.figure(figsize=(10, 3.5), dpi=300)\n",
    "ax1 = fig.add_subplot(111)\n",
    "### Subplot 1: Temp\n",
    "ax1.plot(frequs, lomb, color=\"red\")\n",
    "ax1.grid(linestyle=\"dashed\", alpha=0.3)\n",
    "ax1.set_title(\"Power spectral density using the Lomb-Scargle method\", loc=\"left\")\n",
    "ax1.set_ylabel(\"Normalized PSD\")\n",
    "ax1.set_xlabel(\"Frequency (Hz)\")\n",
    "### Final touch\n",
    "fig.tight_layout()\n",
    "plt.show()"
   ]
  },
  {
   "cell_type": "markdown",
   "metadata": {},
   "source": [
    "**c) Identifique as frequências dominantes**"
   ]
  },
  {
   "cell_type": "code",
   "execution_count": null,
   "metadata": {},
   "outputs": [],
   "source": [
    "### ------------------------------------------------------------------------------------\n",
    "### Find the peaks\n",
    "### ------------------------------------------------------------------------------------\n",
    "peaks = signal.find_peaks(lomb, height=0.1)\n",
    "psd = peaks[1]\n",
    "freqs = [frequs[n] for n in peaks[0]]\n",
    "freqs_table = pd.DataFrame({\"Frecuency\": freqs, \"PSD\": [*psd.values()][0]}).sort_values(\n",
    "    by=\"PSD\", ascending=False\n",
    ")\n",
    "freqs_table"
   ]
  },
  {
   "cell_type": "markdown",
   "metadata": {},
   "source": [
    "**d) Comente os resultados**"
   ]
  },
  {
   "cell_type": "markdown",
   "metadata": {},
   "source": [
    "A frequência dominante, ao aplicar o método de Lomb-Scargle, foi encontrada em ~264Hz, sendo a segunda frequência mais intensa a de 439Hz. Para a normalização, foram usados os valores residuais dos dados em relação a um modelo constante de referência."
   ]
  }
 ],
 "metadata": {
  "kernelspec": {
   "display_name": "science",
   "language": "python",
   "name": "python3"
  },
  "language_info": {
   "codemirror_mode": {
    "name": "ipython",
    "version": 3
   },
   "file_extension": ".py",
   "mimetype": "text/x-python",
   "name": "python",
   "nbconvert_exporter": "python",
   "pygments_lexer": "ipython3",
   "version": "3.11.6"
  }
 },
 "nbformat": 4,
 "nbformat_minor": 2
}
