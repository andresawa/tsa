{
 "cells": [
  {
   "cell_type": "markdown",
   "metadata": {},
   "source": [
    "Universidade Federal do Rio Grande  \n",
    "Instituto de Oceanografia  \n",
    "Programa de Pós-graduação em Oceanologia  \n",
    "**Disciplina**: Análises de Séries Temporais em Oceanografia – 2023  \n",
    "**Estudante**: Andrés Eloy Piñango Jauregui (153423)  \n",
    "\n",
    "# Lista de exercícios 3: Estatística Básica de Séries Temporais: Autocorrelação, Autocovariância, Integral de Escala de Tempo & Correlação Cruzada\n",
    "****\n",
    "**Atividades**:  "
   ]
  },
  {
   "cell_type": "markdown",
   "metadata": {},
   "source": [
    "### Parte I – Estatística Básica\n",
    "#### 1. Visualização dos dados (aconselha-se utilizar arquivo sea_level_ssh_tsl.mat)  \n",
    "**a) Utilize a rotina imagesc.m do Matlab para visualizar os dados de ssh e tsl. Use subplots para apresentar ambos os dados comparativamente em um determinado tempo**\n"
   ]
  },
  {
   "cell_type": "code",
   "execution_count": null,
   "metadata": {},
   "outputs": [],
   "source": [
    "### ------------------------------------------------------------------------------------\n",
    "### Load the libraries to be used in the analysis\n",
    "### ------------------------------------------------------------------------------------\n",
    "import numpy as np\n",
    "import xarray as xr\n",
    "import pandas as pd\n",
    "import matplotlib.pyplot as plt\n",
    "from scipy import io\n",
    "from scipy import stats"
   ]
  },
  {
   "cell_type": "code",
   "execution_count": null,
   "metadata": {},
   "outputs": [],
   "source": [
    "### ------------------------------------------------------------------------------------\n",
    "### Load the mat file\n",
    "### ------------------------------------------------------------------------------------\n",
    "data = io.loadmat(\"./Data/sea_level_ssh_tsl.mat\")"
   ]
  },
  {
   "cell_type": "code",
   "execution_count": null,
   "metadata": {},
   "outputs": [],
   "source": [
    "### ------------------------------------------------------------------------------------\n",
    "### Transform the time values to actual time data\n",
    "### ------------------------------------------------------------------------------------\n",
    "a = np.datetime64(\"0000-01-01\")  # Epoch used by matlab\n",
    "b = np.datetime64(\"1970-01-01\")  # Unix epoch, default in python\n",
    "days = b - a\n",
    "dates = data[\"time\"].flatten() - days.astype(int)\n",
    "time = pd.to_datetime(dates, unit=\"D\")"
   ]
  },
  {
   "cell_type": "code",
   "execution_count": null,
   "metadata": {},
   "outputs": [],
   "source": [
    "### ------------------------------------------------------------------------------------\n",
    "### Create a DataArray for each variable from the mat file\n",
    "### ------------------------------------------------------------------------------------\n",
    "# Sea Surface Height (SSH) anomaly\n",
    "ssh = xr.DataArray(\n",
    "    data[\"ssh_anom\"],\n",
    "    dims=[\"lat\", \"lon\", \"time\"],\n",
    "    coords={\n",
    "        \"lat\": data[\"lat_tsl\"].flatten(),\n",
    "        \"lon\": data[\"lon_tsl\"].flatten(),\n",
    "        \"time\": time,\n",
    "    },\n",
    "    attrs={\n",
    "        \"standard_name\": \"SSH anomaly\",\n",
    "        \"long_name\": \"Sea Surface Height anomaly\",\n",
    "        \"units\": \"m\",\n",
    "    },\n",
    ")\n",
    "# Thermosteric Sea Level (TSL) anomaly\n",
    "tsl = xr.DataArray(\n",
    "    data[\"tsl_anom\"],\n",
    "    dims=[\"lat\", \"lon\", \"time\"],\n",
    "    coords={\n",
    "        \"lat\": data[\"lat_tsl\"].flatten(),\n",
    "        \"lon\": data[\"lon_tsl\"].flatten(),\n",
    "        \"time\": time,\n",
    "    },\n",
    "    attrs={\n",
    "        \"standard_name\": \"TSL anomaly\",\n",
    "        \"long_name\": \"Thermosteric Sea Level anomaly\",\n",
    "        \"units\": \"m\",\n",
    "    },\n",
    ")"
   ]
  },
  {
   "cell_type": "code",
   "execution_count": null,
   "metadata": {},
   "outputs": [],
   "source": [
    "### ------------------------------------------------------------------------------------\n",
    "### Plot the data\n",
    "### ------------------------------------------------------------------------------------\n",
    "fig = plt.figure(figsize=(14, 5), dpi=300)\n",
    "ax1 = fig.add_subplot(121)\n",
    "ax2 = fig.add_subplot(122)\n",
    "### Subplot 1: Temperature\n",
    "ssh.sel(time=\"2010-11-16\").plot(\n",
    "    ax=ax1, vmin=-0.07, vmax=0.07, cmap=\"RdBu_r\", extend=\"both\"\n",
    ")\n",
    "ax1.set_ylabel(\"Latitude\")\n",
    "ax1.set_xlabel(\"Longitude\")\n",
    "### Subplot 2: Partial pressure of carbon dioxide in seawater\n",
    "tsl.sel(time=\"2010-11-16\").plot(\n",
    "    ax=ax2, vmin=-0.07, vmax=0.07, cmap=\"RdBu_r\", extend=\"both\"\n",
    ")\n",
    "ax2.set_ylabel(\"Latitude\")\n",
    "ax2.set_xlabel(\"Longitude\")\n",
    "### Final touch\n",
    "fig.tight_layout(pad=0.2)\n",
    "plt.show()"
   ]
  },
  {
   "cell_type": "markdown",
   "metadata": {},
   "source": [
    "#### 2. Cálculo da Autocorrelação e Integral da Escala de Tempo\n",
    "**a) Escolha uma determinada posição (lon, lat) para as análises**\n"
   ]
  },
  {
   "cell_type": "code",
   "execution_count": null,
   "metadata": {},
   "outputs": [],
   "source": [
    "### ------------------------------------------------------------------------------------\n",
    "### Define the coords for the analysis\n",
    "### ------------------------------------------------------------------------------------\n",
    "longitude = -55.5\n",
    "latitude = 31.5"
   ]
  },
  {
   "cell_type": "markdown",
   "metadata": {},
   "source": [
    "**b) Calcule a autocorrelação e a integral de escala de tempo para esse ponto usando a função time_scale.m fornecida**\n"
   ]
  },
  {
   "cell_type": "code",
   "execution_count": null,
   "metadata": {},
   "outputs": [],
   "source": [
    "### ------------------------------------------------------------------------------------\n",
    "### Define the function that calculate the autocorrelation\n",
    "### ------------------------------------------------------------------------------------\n",
    "def time_scale(series):\n",
    "    # Calculate the autocorrelation of the series\n",
    "    max_lag = int(np.ceil(len(series) / 2))\n",
    "    series_cov = (\n",
    "        series - series.mean()\n",
    "    )  # In matlab the xcov function computes the mean of its inputs, subtracts the mean, and then calls xcorr.\n",
    "    corr = np.correlate(series_cov, series_cov, mode=\"full\")\n",
    "    corr_cut = corr[\n",
    "        (len(corr) // 2) - max_lag : (len(corr) // 2) + 1 + max_lag\n",
    "    ]  # Imitate the job of the variable maxlag in the matlab function\n",
    "    corr_sym = pd.Series(\n",
    "        corr_cut[len(corr_cut) // 2 :]\n",
    "    )  # keep only one side of the symmetric autocovariance\n",
    "    corr_unb = (\n",
    "        corr_sym * 1 / (len(series) - corr_sym.index.values)\n",
    "    )  # From raw to unbiased cross-covariance.\n",
    "    corr_norm = corr_unb / corr_unb[0]\n",
    "    # Calculate the integral time scale\n",
    "    time_scale = 0\n",
    "    i = 0\n",
    "    while corr_norm[i] >= 0:\n",
    "        time_scale = time_scale + (corr_norm[i] + corr_norm[i + 1]) / 2\n",
    "        i += 1\n",
    "    return corr_norm, time_scale"
   ]
  },
  {
   "cell_type": "code",
   "execution_count": null,
   "metadata": {},
   "outputs": [],
   "source": [
    "### ------------------------------------------------------------------------------------\n",
    "### Calculate the autocorrelation\n",
    "### ------------------------------------------------------------------------------------\n",
    "# SSH\n",
    "ssh_point = ssh.sel(lon=longitude, lat=latitude).to_pandas()\n",
    "ssh_corr, ssh_time = time_scale(ssh_point)\n",
    "# TSL\n",
    "tsl_point = tsl.sel(lon=longitude, lat=latitude).to_pandas()\n",
    "tsl_corr, tsl_time = time_scale(tsl_point)"
   ]
  },
  {
   "cell_type": "markdown",
   "metadata": {},
   "source": [
    "**c) Plot a autocorrelação para as duas séries ssh_anom e tsl_anom**\n"
   ]
  },
  {
   "cell_type": "code",
   "execution_count": null,
   "metadata": {},
   "outputs": [],
   "source": [
    "### ------------------------------------------------------------------------------------\n",
    "### Plot the autocorrelation\n",
    "### ------------------------------------------------------------------------------------\n",
    "fig = plt.figure(figsize=(10, 5), dpi=300)\n",
    "ax1 = fig.add_subplot(211)\n",
    "ax2 = fig.add_subplot(212)\n",
    "### Subplot 1: Temperature\n",
    "ssh_corr.plot(ax=ax1)\n",
    "ax1.grid(linestyle=\"dashed\", alpha=0.3)\n",
    "ax1.set_title(\"SSH autocorrelation\", loc=\"left\")\n",
    "ax1.set_ylabel(\"Autocorrelation Coefficient\")\n",
    "ax1.set_xlabel(\"Lag Time (months)\")\n",
    "### Subplot 2: TSL\n",
    "tsl_corr.plot(ax=ax2)\n",
    "ax2.grid(linestyle=\"dashed\", alpha=0.3)\n",
    "ax2.set_title(\"TSL autocorrelation\", loc=\"left\")\n",
    "ax2.set_ylabel(\"Autocorrelation Coefficient\")\n",
    "ax2.set_xlabel(\"Lag Time (months)\")\n",
    "### Final touch\n",
    "fig.tight_layout(pad=0.2)\n",
    "plt.show()"
   ]
  },
  {
   "cell_type": "markdown",
   "metadata": {},
   "source": [
    "**d) Quais são as integrais de escala de tempo das duas séries para o ponto escolhido?**\n"
   ]
  },
  {
   "cell_type": "code",
   "execution_count": null,
   "metadata": {},
   "outputs": [],
   "source": [
    "### ------------------------------------------------------------------------------------\n",
    "### Print the info\n",
    "### ------------------------------------------------------------------------------------\n",
    "print(\n",
    "    f\"A integral da escala de tempo para os dados de SSH na coordenada 31.5°N, 55.5°W foi {round(ssh_time, 4)}\"\n",
    ")\n",
    "print(\n",
    "    f\"A integral da escala de tempo para os dados de TSL na coordenada 31.5°N, 55.5°W foi {round(tsl_time, 4)}\"\n",
    ")"
   ]
  },
  {
   "cell_type": "markdown",
   "metadata": {},
   "source": [
    "**e) Quantos são os graus de liberdade de cada série? Lembre-se que `N*=N/T*`**\n"
   ]
  },
  {
   "cell_type": "code",
   "execution_count": null,
   "metadata": {},
   "outputs": [],
   "source": [
    "### ------------------------------------------------------------------------------------\n",
    "### Print the info\n",
    "### ------------------------------------------------------------------------------------\n",
    "print(\n",
    "    f\"O número de graus de liberdade para os dados de SSH na coordenada 31.5°N, 55.5°W foi {round(len(ssh_point)/ssh_time, 4)}\"\n",
    ")\n",
    "print(\n",
    "    f\"O número de graus de liberdade para os dados de TSL na coordenada 31.5°N, 55.5°W foi {round(len(tsl_point)/tsl_time, 4)}\"\n",
    ")"
   ]
  },
  {
   "cell_type": "markdown",
   "metadata": {},
   "source": [
    "### 3. Cálculo da Correlação Cruzada\n",
    "**a) Calcule a correlação cruzada entre as séries para o ponto escolhido com nível de 95% de confiança (correlate.m)**\n"
   ]
  },
  {
   "cell_type": "code",
   "execution_count": null,
   "metadata": {},
   "outputs": [],
   "source": [
    "### ------------------------------------------------------------------------------------\n",
    "### Print the info\n",
    "### ------------------------------------------------------------------------------------\n",
    "print(\n",
    "    f\"A correlação cruzada entre as séries SSH e TSL na coordenada 31.5°N, 55.5°W foi {round(ssh_point.corr(tsl_point), 4)}\"\n",
    ")"
   ]
  },
  {
   "cell_type": "markdown",
   "metadata": {},
   "source": [
    "**b) Tente calcular a correlação cruzada para todos os pontos de sua grade espacial. Use loops de programação**\n"
   ]
  },
  {
   "cell_type": "code",
   "execution_count": null,
   "metadata": {},
   "outputs": [],
   "source": [
    "### ------------------------------------------------------------------------------------\n",
    "### Define the function that calculate the correlation and the p-value\n",
    "### ------------------------------------------------------------------------------------\n",
    "def correlate(da_a, da_b, dim):\n",
    "    # Calculate the Pearson correlation\n",
    "    corr = xr.corr(da_a, da_b, dim=dim)\n",
    "    corr.attrs[\"long_name\"] = \"Correlation Coefficient\"\n",
    "    # Calculate the p-value\n",
    "    n = len(da_a[dim])\n",
    "    dist = stats.beta(n / 2 - 1, n / 2 - 1, loc=-1, scale=2)\n",
    "    func = lambda x: 2 * dist.cdf(-abs(x))\n",
    "    p_values = xr.apply_ufunc(func, corr)\n",
    "    p_values.attrs[\"long_name\"] = \"p-value\"\n",
    "    return corr, p_values"
   ]
  },
  {
   "cell_type": "code",
   "execution_count": null,
   "metadata": {},
   "outputs": [],
   "source": [
    "### ------------------------------------------------------------------------------------\n",
    "### Calculate the correlation and the p-value\n",
    "### ------------------------------------------------------------------------------------\n",
    "ssh_tsl, pvalues = correlate(ssh, tsl, \"time\")"
   ]
  },
  {
   "cell_type": "markdown",
   "metadata": {},
   "source": [
    "**c) Mostre graficamente o coeficiente de correlação cruzada entre os dados de ssh_anom e tsl_anom. (Semelhante ao slide 25 da aula 4. Utilize imagesc.m, colorbar.m, etc)**  \n",
    "  \n",
    "**d) Mostre num gride espacial (imagesc.m) onde os coeficientes são estatisticamente significantes. (Utilize o exemplo do slide 25 da Aula4)**"
   ]
  },
  {
   "cell_type": "code",
   "execution_count": null,
   "metadata": {},
   "outputs": [],
   "source": [
    "### ------------------------------------------------------------------------------------\n",
    "### Plot both, the correlation and the significant results\n",
    "### ------------------------------------------------------------------------------------\n",
    "fig = plt.figure(figsize=(5, 7), dpi=300)\n",
    "ax1 = fig.add_subplot(211)\n",
    "ax2 = fig.add_subplot(212)\n",
    "### Subplot 1: Correlation\n",
    "ssh_tsl.plot(ax=ax1)\n",
    "ax1.grid(linestyle=\"dashed\", alpha=0.3)\n",
    "ax1.set_title(\"SSH vs TSL Correlation\", loc=\"left\")\n",
    "ax1.set_ylabel(\"Latitude\")\n",
    "ax1.set_xlabel(\"Longitude\")\n",
    "### Subplot 2: Significance\n",
    "pvalues.plot(ax=ax2, vmin=0, vmax=0.25, cmap=\"tab20b\")\n",
    "ax2.grid(linestyle=\"dashed\", alpha=0.3)\n",
    "ax2.set_title(\"Correlation p-values\", loc=\"left\")\n",
    "ax2.set_ylabel(\"Latitude\")\n",
    "ax2.set_xlabel(\"Longitude\")\n",
    "### Final touch\n",
    "fig.tight_layout(pad=0.2)\n",
    "plt.show()"
   ]
  },
  {
   "cell_type": "markdown",
   "metadata": {},
   "source": [
    "**e) Comente os resultados**  "
   ]
  },
  {
   "cell_type": "markdown",
   "metadata": {},
   "source": [
    "Espacialmente, TSL e SST mostraram uma boa correlação (>0.7) entre 25 e 29°N e 54 e 59°W e uma baixa correlação no resto da região estudada. Em geral, todas as correlações são estatisticamente significativas (com 95%) exceto num pixel no extremo norte entre 58 e 57°W, onde, além disso, a correlação foi muito baixa (~0.1)."
   ]
  },
  {
   "cell_type": "markdown",
   "metadata": {},
   "source": [
    "****\n",
    "### Parte II – Periodicidade\n",
    "Nessa sessão, iremos analisar as tendências e periodicidade das séries temporais utilizando estatística básica. Duas séries temporais serão analisadas neste exercício:\n",
    "* O índice da oscilação sul, obtida de: https://www.ncdc.noaa.gov/teleconnections/enso/indicators/soi/#soi-calculation\n",
    "* A concentração de CO2 na atmosfera na ilha de Mauna Loa, obtida de: ftp://aftp.cmdl.noaa.gov/products/trends/co2/co2_mm_mlo.txt\n",
    "\n",
    "#### 4. Use a série de concentração de CO2 de Mauna Loa para as atividades a seguir\n",
    "**a) Leia a série de dados. Verifique se existem períodos sem dados. Se existirem, tente preencher as lacunas com a função myinterp.m**\n"
   ]
  },
  {
   "cell_type": "code",
   "execution_count": null,
   "metadata": {},
   "outputs": [],
   "source": [
    "### ------------------------------------------------------------------------------------\n",
    "### Load the data and interpolate the gaps\n",
    "### ------------------------------------------------------------------------------------\n",
    "pco2_mau = pd.read_table(\n",
    "    \"./Data/co2_monthly_mauna_loa.txt\",\n",
    "    names=[\"year\", \"month\", \"decimal_date\", \"pco2\", \"interpolated\", \"trend\", \"days\"],\n",
    "    skiprows=72,\n",
    "    sep=\"\\s+\",\n",
    "    na_values=-99.99,\n",
    ")\n",
    "pco2_mau[\"time\"] = pd.to_datetime(\n",
    "    {\"year\": pco2_mau[\"year\"], \"month\": pco2_mau[\"month\"], \"day\": 15}\n",
    ")\n",
    "pco2_mau = (\n",
    "    pco2_mau.drop(\n",
    "        columns=[\"year\", \"month\", \"decimal_date\", \"interpolated\", \"trend\", \"days\"]\n",
    "    )\n",
    "    .set_index(\"time\")\n",
    "    .squeeze()\n",
    ")\n",
    "pco2_mau2 = pco2_mau.interpolate()"
   ]
  },
  {
   "cell_type": "markdown",
   "metadata": {},
   "source": [
    "**b) Plote a série temporal interpolada sobreposta à serie original. Existe alguma tendência na série?**\n"
   ]
  },
  {
   "cell_type": "code",
   "execution_count": null,
   "metadata": {},
   "outputs": [],
   "source": [
    "### ------------------------------------------------------------------------------------\n",
    "### Plot the figure\n",
    "### ------------------------------------------------------------------------------------\n",
    "fig = plt.figure(figsize=(10, 4), dpi=300)\n",
    "ax = fig.add_subplot(111)\n",
    "ax.grid(linestyle=\"dashed\", alpha=0.3)\n",
    "ax.plot(pco2_mau2, color=\"blue\", label=\"Interpolated\")\n",
    "ax.plot(pco2_mau, color=\"#E71D36\", label=\"Original\")\n",
    "ax.legend()\n",
    "ax.set_title(\"Monthly mean CO2 mole fraction in Mauna Loa\", loc=\"left\")\n",
    "ax.set_ylabel(\"Molar fraction\")\n",
    "### Final touch\n",
    "fig.tight_layout(pad=0.2)\n",
    "plt.show()"
   ]
  },
  {
   "cell_type": "markdown",
   "metadata": {},
   "source": [
    "Sim, existe uma tendência na série. Como resultado da utilização de combustíveis fósseis, mudanças no uso da terra e outras atividades antrópicas, a concentração de CO2 na atmosfera está incrementando a uma taxa de ~2 μatm por ano."
   ]
  },
  {
   "cell_type": "markdown",
   "metadata": {},
   "source": [
    "**c) Remova a tendência utilizando a função detrend.m. Perceba que essa função remove a tendência linear da série. Plote novamente a série que você retirou a tendência linear. Você acha que a tendência foi removida corretamente?**"
   ]
  },
  {
   "cell_type": "code",
   "execution_count": null,
   "metadata": {},
   "outputs": [],
   "source": [
    "### ------------------------------------------------------------------------------------\n",
    "### Define a function to detrend the data\n",
    "### ------------------------------------------------------------------------------------\n",
    "def linear_detrend(series):\n",
    "    new_series = series.reset_index(drop=True)\n",
    "    clean_series = new_series.dropna()\n",
    "    regression = np.polynomial.Polynomial.fit(\n",
    "        clean_series.index.values, clean_series.values, deg=1\n",
    "    )\n",
    "    coef = regression.convert().coef\n",
    "    detrended_series = series - ((coef[1] * new_series.index.values) + coef[0])\n",
    "    return detrended_series"
   ]
  },
  {
   "cell_type": "code",
   "execution_count": null,
   "metadata": {},
   "outputs": [],
   "source": [
    "### ------------------------------------------------------------------------------------\n",
    "### Detrend the data\n",
    "### ------------------------------------------------------------------------------------\n",
    "pco2_lin_detre = linear_detrend(pco2_mau2)"
   ]
  },
  {
   "cell_type": "code",
   "execution_count": null,
   "metadata": {},
   "outputs": [],
   "source": [
    "### ------------------------------------------------------------------------------------\n",
    "### Plot the detrended data\n",
    "### ------------------------------------------------------------------------------------\n",
    "fig = plt.figure(figsize=(10, 4), dpi=300)\n",
    "ax = fig.add_subplot(111)\n",
    "ax.grid(linestyle=\"dashed\", alpha=0.3)\n",
    "ax.plot(pco2_lin_detre, color=\"#E71D36\", label=\"Original\")\n",
    "ax.set_title(\n",
    "    \"Detrended monthly mean CO2 mole fraction in Mauna Loa\\n1 degree polynom\",\n",
    "    loc=\"left\",\n",
    ")\n",
    "ax.set_ylabel(\"Molar fraction\")\n",
    "### Final touch\n",
    "fig.tight_layout(pad=0.2)\n",
    "plt.show()"
   ]
  },
  {
   "cell_type": "markdown",
   "metadata": {},
   "source": [
    "A função não removeu corretamente a tendência da série. Como o incremento do CO2 na atmosfera não é linear, outra função (polinômica, exponencial) poderia dar um melhor resultado."
   ]
  },
  {
   "cell_type": "markdown",
   "metadata": {},
   "source": [
    "**d) Tente ajustar agora uma função de 3° grau aos dados. Utilize as funções polyfit.m e polyval.m do Matlab**\n"
   ]
  },
  {
   "cell_type": "code",
   "execution_count": null,
   "metadata": {},
   "outputs": [],
   "source": [
    "### ------------------------------------------------------------------------------------\n",
    "### Define a second function to detrend the data\n",
    "### ------------------------------------------------------------------------------------\n",
    "def cubic_detrend(series):\n",
    "    new_series = series.reset_index(drop=True)\n",
    "    clean_series = new_series.dropna()\n",
    "    regression = np.polynomial.Polynomial.fit(\n",
    "        clean_series.index.values, clean_series.values, deg=3\n",
    "    )\n",
    "    coef = regression.convert().coef\n",
    "    detrended_series = series - (\n",
    "        (coef[3] * new_series.index.values**3)\n",
    "        + (coef[2] * new_series.index.values**2)\n",
    "        + (coef[1] * new_series.index.values)\n",
    "        + coef[0]\n",
    "    )\n",
    "    return detrended_series"
   ]
  },
  {
   "cell_type": "markdown",
   "metadata": {},
   "source": [
    "**e) Repita novamente o item (c)**\n"
   ]
  },
  {
   "cell_type": "code",
   "execution_count": null,
   "metadata": {},
   "outputs": [],
   "source": [
    "### ------------------------------------------------------------------------------------\n",
    "### Detrend the data\n",
    "### ------------------------------------------------------------------------------------\n",
    "pco2_cub_detre = cubic_detrend(pco2_mau2)"
   ]
  },
  {
   "cell_type": "code",
   "execution_count": null,
   "metadata": {},
   "outputs": [],
   "source": [
    "### ------------------------------------------------------------------------------------\n",
    "### Plot the detrended data\n",
    "### ------------------------------------------------------------------------------------\n",
    "fig = plt.figure(figsize=(10, 4), dpi=300)\n",
    "ax = fig.add_subplot(111)\n",
    "ax.grid(linestyle=\"dashed\", alpha=0.3)\n",
    "ax.plot(pco2_cub_detre, color=\"#E71D36\", label=\"Original\")\n",
    "ax.set_title(\n",
    "    \"Detrended monthly mean CO2 mole fraction in Mauna Loa\\n3 degree polynom\",\n",
    "    loc=\"left\",\n",
    ")\n",
    "ax.set_ylabel(\"Molar fraction\")\n",
    "### Final touch\n",
    "fig.tight_layout(pad=0.2)\n",
    "plt.show()"
   ]
  },
  {
   "cell_type": "markdown",
   "metadata": {},
   "source": [
    "**f) Comente os resultados**"
   ]
  },
  {
   "cell_type": "markdown",
   "metadata": {},
   "source": [
    "Aplicando uma função polinômica de ordem 3, a tendência dos dados foi eliminada de forma satisfatória. Agora, os valores encontram-se simetricamente ao redor do zero tanto no início como no fim da série."
   ]
  },
  {
   "cell_type": "markdown",
   "metadata": {},
   "source": [
    "#### 5. Use o script abaixo para aprender a utilizar as funções xcov ou xcorr\n",
    "````\n",
    "dt = 0.5; T = 10; N = 200; T = [0:N-1].*dt;\n",
    "Y = 2.*cos((2.*pi./T).*t);\n",
    "[c,lags] = xcorr(y,'coeff');\n",
    "figure; \n",
    "subplot(211); plot(t,y);\n",
    "subplot(212); plot(lags,c)\n",
    "````\n",
    "Observe que uma série temporal de frequência 1/T (= 0.1 s) foi gerada a partir da função periódica cosseno. A série possui 200 valores.\n",
    "* Qual é a frequência de amostragem da série?\n",
    "* O que acontece com a função autocorrelação (xcorr.m) se diminuirmos ou aumentarmos N? Faça o teste.\n",
    "* Plote e comente os resultados.\n"
   ]
  },
  {
   "cell_type": "code",
   "execution_count": null,
   "metadata": {},
   "outputs": [],
   "source": [
    "### ------------------------------------------------------------------------------------\n",
    "### Define a function for autoccorrelation\n",
    "### ------------------------------------------------------------------------------------\n",
    "def xcorr(serie_a, serie_b):\n",
    "    corr = np.correlate(serie_a, serie_b, mode=\"full\")\n",
    "    corr_norm = corr / corr[(len(corr) // 2)]\n",
    "    lag = np.arange(-len(serie_a) + 1, len(serie_a), 1)\n",
    "    return corr_norm, lag"
   ]
  },
  {
   "cell_type": "code",
   "execution_count": null,
   "metadata": {},
   "outputs": [],
   "source": [
    "### ------------------------------------------------------------------------------------\n",
    "### Define a function for the analysis with vaniable n\n",
    "### ------------------------------------------------------------------------------------\n",
    "def cos_series(n):\n",
    "    ### Create the series\n",
    "    upper_limit = n * 0.5\n",
    "    wavelength = 10\n",
    "    t = np.arange(0, upper_limit, 0.5)\n",
    "    y = 2 * np.cos((2 * np.pi / wavelength) * t)\n",
    "    ### Calculate the autocorrelation\n",
    "    corr_norm, lag = xcorr(y, y)\n",
    "    ### Make the figure\n",
    "    fig = plt.figure(figsize=(10, 5), dpi=300)\n",
    "    ax1 = fig.add_subplot(211)\n",
    "    ax2 = fig.add_subplot(212)\n",
    "    title = \"Serie (n=\" + str(n) + \")\"\n",
    "    ### Subplot 1: Temperature\n",
    "    ax1.plot(t, y, color=\"blue\")\n",
    "    ax1.grid(linestyle=\"dashed\", alpha=0.3)\n",
    "    ax1.set_title(title, loc=\"left\")\n",
    "    ### Subplot 2: Partial pressure of carbon dioxide in seawater\n",
    "    ax2.plot(lag, corr_norm, color=\"black\")\n",
    "    ax2.grid(linestyle=\"dashed\", alpha=0.3)\n",
    "    ax2.set_title(\"Autocorrelation\", loc=\"left\")\n",
    "    ax2.set_ylabel(\"Autocorrelation Coefficient\")\n",
    "    ax2.set_xlabel(\"Lag Time\")\n",
    "    ### Final touch\n",
    "    fig.tight_layout(pad=0.2)\n",
    "    plt.show()"
   ]
  },
  {
   "cell_type": "code",
   "execution_count": null,
   "metadata": {},
   "outputs": [],
   "source": [
    "### ------------------------------------------------------------------------------------\n",
    "### Result with n=200\n",
    "### ------------------------------------------------------------------------------------\n",
    "cos_series(200)"
   ]
  },
  {
   "cell_type": "code",
   "execution_count": null,
   "metadata": {},
   "outputs": [],
   "source": [
    "### ------------------------------------------------------------------------------------\n",
    "### Result with n=400\n",
    "### ------------------------------------------------------------------------------------\n",
    "cos_series(400)"
   ]
  },
  {
   "cell_type": "markdown",
   "metadata": {},
   "source": [
    "A frequência de amostragem para n=200 é 0.005.\n",
    "\n",
    "A função xcorr ajusta o coeficiente de autocorrelação de maneira que para o máximo lag time o valor seja 0. Assim, a forma geral se conserva, mas o coeficiente de correlação muda. Por exemplo, para n=200 e um lag time de 100, o valor do coeficiente de autocorrelação é 0.5. Porém, para n=400 e o mesmo lag time de 100, o coeficiente de autocorrelação é maior."
   ]
  },
  {
   "cell_type": "markdown",
   "metadata": {},
   "source": [
    "#### 6. Utilize novamente a série da concentração de CO2 de Mauna Loa\n",
    "**a) Calcule a função de covariância (ou autocorrelação) da série original de CO2 e da série sem tendência calculada anteriormente (questão 4)**\n"
   ]
  },
  {
   "cell_type": "code",
   "execution_count": null,
   "metadata": {},
   "outputs": [],
   "source": [
    "### ------------------------------------------------------------------------------------\n",
    "### Make the correlation\n",
    "### ------------------------------------------------------------------------------------\n",
    "corr_pco2, lag_pco2 = xcorr(pco2_mau2, pco2_mau2)\n",
    "corr_dpco2, lag_dpco2 = xcorr(pco2_cub_detre, pco2_cub_detre)"
   ]
  },
  {
   "cell_type": "markdown",
   "metadata": {},
   "source": [
    "**b) Plote a autocorrelação em função do “lag” para as duas séries (original e detrended). Use a lag (eixo x) variando de 0 a 60 meses**\n"
   ]
  },
  {
   "cell_type": "code",
   "execution_count": null,
   "metadata": {},
   "outputs": [],
   "source": [
    "### ------------------------------------------------------------------------------------\n",
    "### Plot the autocorrelation\n",
    "### ------------------------------------------------------------------------------------\n",
    "fig = plt.figure(figsize=(10, 5), dpi=300)\n",
    "ax1 = fig.add_subplot(211)\n",
    "ax2 = fig.add_subplot(212)\n",
    "### Subplot 1: Temperature\n",
    "ax1.plot(lag_pco2, corr_pco2, color=\"blue\")\n",
    "ax1.grid(linestyle=\"dashed\", alpha=0.3)\n",
    "ax1.set_xlim(0, 60)\n",
    "ax1.set_ylim(0.9, 1.01)\n",
    "ax1.set_title(\"Autocorrelation monthly mean CO2 mole fraction in Mauna Loa\", loc=\"left\")\n",
    "ax1.set_ylabel(\"Autocorrelation Coefficient\")\n",
    "ax1.set_xlabel(\"Lag Time\")\n",
    "### Subplot 2: Partial pressure of carbon dioxide in seawater\n",
    "ax2.plot(lag_dpco2, corr_dpco2, color=\"black\")\n",
    "ax2.grid(linestyle=\"dashed\", alpha=0.3)\n",
    "ax2.set_xlim(0, 60)\n",
    "ax2.set_title(\n",
    "    \"Autocorrelation detrendend monthly mean CO2 mole fraction in Mauna Loa\", loc=\"left\"\n",
    ")\n",
    "ax2.set_ylabel(\"Autocorrelation Coefficient\")\n",
    "ax2.set_xlabel(\"Lag Time\")\n",
    "### Final touch\n",
    "fig.tight_layout(pad=0.2)\n",
    "plt.show()"
   ]
  },
  {
   "cell_type": "markdown",
   "metadata": {},
   "source": [
    "**c) Descreva o comportamento da autocorrelação para ambas as séries**\n"
   ]
  },
  {
   "cell_type": "markdown",
   "metadata": {},
   "source": [
    "No caso da série original, a autocorrelação é uma linha reta com inclinação negativa.  \n",
    "No caso da série sem tendência, pode ser observado um comportamento periódico, onde os maiores valores de autocorrelação são encontrados de 12 em 12 meses.  \n",
    "Em resumo, a tendência pode mascarar a verdadeira autocorrelação da série temporal."
   ]
  },
  {
   "cell_type": "markdown",
   "metadata": {},
   "source": [
    "**d) Verifique se a série sem tendência linear (detrended) de CO2 obedece à uma distribuição normal. Ou seja, faça o histograma de xd (série detrended) e use a função lillietest.m para verificar se a série possui distribuição normal**\n"
   ]
  },
  {
   "cell_type": "code",
   "execution_count": null,
   "metadata": {},
   "outputs": [],
   "source": [
    "### ------------------------------------------------------------------------------------\n",
    "### Plot the histogram\n",
    "### ------------------------------------------------------------------------------------\n",
    "plt.figure(dpi=300)\n",
    "hist = pco2_cub_detre.hist(bins=\"auto\")\n",
    "hist.set_title(\n",
    "    \"Histogram detrendend monthly mean CO2 mole fraction\\nin Mauna Loa\", loc=\"left\"\n",
    ")\n",
    "hist.set_ylabel(\"Counts\")\n",
    "plt.grid(linestyle=\"dashed\", alpha=0.3)\n",
    "plt.show()"
   ]
  },
  {
   "cell_type": "code",
   "execution_count": null,
   "metadata": {},
   "outputs": [],
   "source": [
    "### ------------------------------------------------------------------------------------\n",
    "### Define a function to test the normal distribution of the data\n",
    "### ------------------------------------------------------------------------------------\n",
    "def normal_test(series, alpha):\n",
    "    # One-sample Kolmogorov-Smirnov test (kst):\n",
    "    kst = stats.ks_1samp(series, stats.norm.cdf).pvalue\n",
    "    if kst < alpha:\n",
    "        print(f\"KST (p-values): {round(kst, 2)} < {alpha}\")\n",
    "        print(\n",
    "            f\"Com um nivel de confiança de {100-alpha*100}% o teste de normalidade de Kolmogorov-Smirnov sugere que a série não possui uma distribuição normal\"\n",
    "        )\n",
    "    else:\n",
    "        print(f\"KST (p-values): {round(kst, 2)} > {alpha}\")\n",
    "        print(\n",
    "            f\"Com um nivel de confiança de {100-alpha*100}% o teste de normalidade de Kolmogorov-Smirnov sugere que a série pode ter uma distribuição normal\"\n",
    "        )\n",
    "    # Shapiro-Wilk test (swt):\n",
    "    print(\"---------------------------------------------------------------------------\")\n",
    "    swt = stats.shapiro(series).pvalue\n",
    "    if swt < alpha:\n",
    "        print(f\"SWT (p-values): {round(swt, 2)} < {alpha}\")\n",
    "        print(\n",
    "            f\"Com um nivel de confiança de {100-alpha*100}% o teste de normalidade de Shapiro-Wilk sugere que a série não possui uma distribuição normal\"\n",
    "        )\n",
    "    else:\n",
    "        print(f\"SWT (p-values): {round(swt, 2)} > {alpha}\")\n",
    "        print(\n",
    "            f\"Com um nivel de confiança de {100-alpha*100}% o teste de normalidade de Shapiro-Wilk sugere que a série pode ter uma distribuição normal\"\n",
    "        )\n",
    "    # D’Agostino and Pearson’s test (dpt):\n",
    "    print(\"---------------------------------------------------------------------------\")\n",
    "    dpt = stats.normaltest(series, nan_policy=\"omit\").pvalue\n",
    "    if dpt < alpha:\n",
    "        print(f\"DPT (p-values): {round(dpt, 2)} < {alpha}\")\n",
    "        print(\n",
    "            f\"Com um nivel de confiança de {100-alpha*100}% o teste de normalidade de D’Agostino and Pearson’s sugere que a série não possui uma distribuição normal\"\n",
    "        )\n",
    "    else:\n",
    "        print(f\"DPT (p-values): {round(dpt, 2)} > {alpha}\")\n",
    "        print(\n",
    "            f\"Com um nivel de confiança de {100-alpha*100}% o teste de normalidade de D’Agostino and Pearson’s sugere que a série pode ter uma distribuição normal\"\n",
    "        )"
   ]
  },
  {
   "cell_type": "code",
   "execution_count": null,
   "metadata": {},
   "outputs": [],
   "source": [
    "### ------------------------------------------------------------------------------------\n",
    "### Apply the function\n",
    "### ------------------------------------------------------------------------------------\n",
    "normal_test(pco2_cub_detre, 0.05)"
   ]
  },
  {
   "cell_type": "markdown",
   "metadata": {},
   "source": [
    "**e) Comente os resultados**"
   ]
  },
  {
   "cell_type": "markdown",
   "metadata": {},
   "source": [
    "A distribuição observada no histograma é semelhante à uma distribuição normal com uma assimetria positiva. Porém, os resultados dos testes estatísticos sugerem que a série não possui uma distribuição normal."
   ]
  },
  {
   "cell_type": "markdown",
   "metadata": {},
   "source": [
    "#### 7.\tRepita a questão 6, mas agora com a série de SOI. Comente os resultados"
   ]
  },
  {
   "cell_type": "code",
   "execution_count": null,
   "metadata": {},
   "outputs": [],
   "source": [
    "### ------------------------------------------------------------------------------------\n",
    "### Load the SOI data\n",
    "### ------------------------------------------------------------------------------------\n",
    "soi = pd.read_csv(\"./Data/SOI.csv\", skiprows=1)\n",
    "soi[\"time\"] = pd.to_datetime(soi[\"Date\"], format=\"%Y%m\")\n",
    "soi = soi.drop(columns=[\"Date\"])\n",
    "soi = soi.set_index(\"time\").squeeze()"
   ]
  },
  {
   "cell_type": "code",
   "execution_count": null,
   "metadata": {},
   "outputs": [],
   "source": [
    "### ------------------------------------------------------------------------------------\n",
    "### Detrend the SOI data\n",
    "### ------------------------------------------------------------------------------------\n",
    "soi_cub_detre = cubic_detrend(soi)"
   ]
  },
  {
   "cell_type": "code",
   "execution_count": null,
   "metadata": {},
   "outputs": [],
   "source": [
    "### ------------------------------------------------------------------------------------\n",
    "### Calculate the autocorrelation\n",
    "### ------------------------------------------------------------------------------------\n",
    "corr_soi, lag_soi = xcorr(soi, soi)\n",
    "corr_dsoi, lag_dsoi = xcorr(soi_cub_detre, soi_cub_detre)"
   ]
  },
  {
   "cell_type": "code",
   "execution_count": null,
   "metadata": {},
   "outputs": [],
   "source": [
    "### ------------------------------------------------------------------------------------\n",
    "### Plot the autocorrelation\n",
    "### ------------------------------------------------------------------------------------\n",
    "fig = plt.figure(figsize=(10, 5), dpi=300)\n",
    "ax1 = fig.add_subplot(211)\n",
    "ax2 = fig.add_subplot(212)\n",
    "### Subplot 1: Original data\n",
    "ax1.plot(lag_soi, corr_soi, color=\"blue\")\n",
    "ax1.grid(linestyle=\"dashed\", alpha=0.3)\n",
    "ax1.set_xlim(0, 60)\n",
    "ax1.set_title(\n",
    "    \"Autocorrelation monthly Southern Oscillation Index (SOI) (Original)\", loc=\"left\"\n",
    ")\n",
    "ax1.set_ylabel(\"Autocorrelation Coefficient\")\n",
    "ax1.set_xlabel(\"Lag Time\")\n",
    "### Subplot 2: Detrended data\n",
    "ax2.plot(lag_dsoi, corr_dsoi, color=\"black\")\n",
    "ax2.grid(linestyle=\"dashed\", alpha=0.3)\n",
    "ax2.set_xlim(0, 60)\n",
    "ax2.set_title(\n",
    "    \"Autocorrelation detrendend monthly Southern Oscillation Index (SOI) (Detrended)\",\n",
    "    loc=\"left\",\n",
    ")\n",
    "ax2.set_ylabel(\"Autocorrelation Coefficient\")\n",
    "ax2.set_xlabel(\"Lag Time\")\n",
    "### Final touch\n",
    "fig.tight_layout(pad=0.2)\n",
    "plt.show()"
   ]
  },
  {
   "cell_type": "code",
   "execution_count": null,
   "metadata": {},
   "outputs": [],
   "source": [
    "### ------------------------------------------------------------------------------------\n",
    "### Plot the histogram of SOI\n",
    "### ------------------------------------------------------------------------------------\n",
    "plt.figure(dpi=300)\n",
    "hist2 = soi_cub_detre.hist(bins=\"auto\")\n",
    "hist2.set_title(\n",
    "    \"Histogram detrendend monthly Southern Oscillation Index (SOI)\", loc=\"left\"\n",
    ")\n",
    "hist2.set_ylabel(\"Counts\")\n",
    "plt.grid(linestyle=\"dashed\", alpha=0.3)\n",
    "plt.show()"
   ]
  },
  {
   "cell_type": "code",
   "execution_count": null,
   "metadata": {},
   "outputs": [],
   "source": [
    "### ------------------------------------------------------------------------------------\n",
    "### Test the normality of the SOI data\n",
    "### ------------------------------------------------------------------------------------\n",
    "normal_test(soi_cub_detre, 0.05)"
   ]
  },
  {
   "cell_type": "markdown",
   "metadata": {},
   "source": [
    "A diferença da série de CO2 atmosférico, a série de SOI não parece ter uma tendência muito marcada, e os valores de autocorrelação são semelhantes usando os dados originais e os dados sem tendência. O histograma é bem semelhante a uma distribuição normal, e um dos testes de normalidade aplicados (Kolmogorov-Smirnov) sugere que a série pode ter uma distribuição normal. Porém, os outros dois testes sugerem que a série não possui uma distribuição normal."
   ]
  }
 ],
 "metadata": {
  "kernelspec": {
   "display_name": "science",
   "language": "python",
   "name": "python3"
  },
  "language_info": {
   "codemirror_mode": {
    "name": "ipython",
    "version": 3
   },
   "file_extension": ".py",
   "mimetype": "text/x-python",
   "name": "python",
   "nbconvert_exporter": "python",
   "pygments_lexer": "ipython3",
   "version": "3.11.6"
  },
  "orig_nbformat": 4
 },
 "nbformat": 4,
 "nbformat_minor": 2
}
