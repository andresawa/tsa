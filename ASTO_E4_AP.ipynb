{
  "cells": [
    {
      "cell_type": "markdown",
      "metadata": {
        "id": "view-in-github",
        "colab_type": "text"
      },
      "source": [
        "<a href=\"https://colab.research.google.com/github/andresawa/tsa/blob/main/ASTO_E4_AP.ipynb\" target=\"_parent\"><img src=\"https://colab.research.google.com/assets/colab-badge.svg\" alt=\"Open In Colab\"/></a>"
      ]
    },
    {
      "cell_type": "markdown",
      "metadata": {
        "id": "wGzm7KS1PdiK"
      },
      "source": [
        "Universidade Federal do Rio Grande  \n",
        "Instituto de Oceanografia  \n",
        "Programa de Pós-graduação em Oceanologia  \n",
        "**Disciplina**: Análises de Séries Temporais em Oceanografia – 2023  \n",
        "**Estudante**: Andrés Eloy Piñango Jauregui (153423)  \n",
        "\n",
        "# Lista de exercícios 4: Séries de Fourier   \n",
        "****\n",
        "**Atividades**:  \n",
        "Neste exercício, quatro séries temporais de temperatura da superfície do mar (TSM) e da concentração de clorifila-a (CHL), estimadas por sensores a bordo de satélites, são fornecidas para análises harmônicas (séries de Fourier). As séries foram obtidas dos locais mostrados na figura abaixo:  \n",
        "  \n",
        "![Mapa](https://raw.githubusercontent.com/andresawa/tsa/main/Data/map.png)  \n",
        "  \n",
        "As imagens de TSM são oriundas do sensor MODIS, a bordo do satélite AQUA da NASA. As imagens de CHL são oriundas dos sensores SeaWiFS (até 2002) e MODIS (após 2002). As imagens de TSM e CHL são composições semanais, com resolução de 9 km. A NASA, ao construir as imagens semanais, considera que elas são formadas por 8 dias consecutivos. Portanto, as imagens são formadas pelas médias das imagens deste 8 dias consecutivos. No final, 46 imagens semanais compõem o ano.  \n",
        "  \n",
        "As imagens foram obtidas de http://oceancolor.gsfc.nasa.gov/  "
      ]
    },
    {
      "cell_type": "markdown",
      "metadata": {
        "id": "DRSw_QLTPdiO"
      },
      "source": [
        "****\n",
        "### Parte I – Série de Fourier\n",
        "#### 1.\tVisualização dos dados (series_chl_ssh_v2.mat)\n",
        "**a) Antes de iniciar as atividades, verifique o tamanho das séries. Perceba que são diferentes. Use apenas 18 anos de dados da série de CHL e 14 anos da série de TSM. Ou seja, use apenas 18 * 46 (=828) dados de CHL e 14 * 46 (=644) dados de TSM. Observe que a frequência de amostragem (fs) é uma imagem por semana**"
      ]
    },
    {
      "cell_type": "code",
      "execution_count": null,
      "metadata": {
        "id": "vUWUEmgIPdiR"
      },
      "outputs": [],
      "source": [
        "### ------------------------------------------------------------------------------------\n",
        "### Load the libraries to be used in the analysis\n",
        "### ------------------------------------------------------------------------------------\n",
        "import numpy as np\n",
        "import pandas as pd\n",
        "import matplotlib.pyplot as plt\n",
        "from scipy import io"
      ]
    },
    {
      "cell_type": "code",
      "source": [
        "### ------------------------------------------------------------------------------------\n",
        "### Download the mat file\n",
        "### ------------------------------------------------------------------------------------\n",
        "!wget https://github.com/andresawa/tsa/raw/main/Data/series_chl_sst_v2.mat"
      ],
      "metadata": {
        "id": "Ut1wU1nhPfPy"
      },
      "execution_count": null,
      "outputs": []
    },
    {
      "cell_type": "code",
      "execution_count": null,
      "metadata": {
        "id": "fv_hM3I5PdiU"
      },
      "outputs": [],
      "source": [
        "### ------------------------------------------------------------------------------------\n",
        "### Load the mat file\n",
        "### ------------------------------------------------------------------------------------\n",
        "data = io.loadmat(\"./series_chl_sst_v2.mat\")"
      ]
    },
    {
      "cell_type": "code",
      "execution_count": null,
      "metadata": {
        "id": "zunkyToBPdiW"
      },
      "outputs": [],
      "source": [
        "### ------------------------------------------------------------------------------------\n",
        "### Transform the data into a table\n",
        "### ------------------------------------------------------------------------------------\n",
        "chla = pd.DataFrame(\n",
        "    {\n",
        "        \"P1\": data[\"chl_P1\"].flatten(),\n",
        "        \"P2\": data[\"chl_P2\"].flatten(),\n",
        "        \"P3\": data[\"chl_P3\"].flatten(),\n",
        "        \"P4\": data[\"chl_P4\"].flatten(),\n",
        "    }\n",
        ")\n",
        "\n",
        "sst = pd.DataFrame(\n",
        "    {\n",
        "        \"P1\": data[\"sst_P1\"].flatten(),\n",
        "        \"P2\": data[\"sst_P2\"].flatten(),\n",
        "        \"P3\": data[\"sst_P3\"].flatten(),\n",
        "        \"P4\": data[\"sst_P4\"].flatten(),\n",
        "    }\n",
        ")"
      ]
    },
    {
      "cell_type": "code",
      "execution_count": null,
      "metadata": {
        "id": "fTvGnL6XPdiY"
      },
      "outputs": [],
      "source": [
        "### ------------------------------------------------------------------------------------\n",
        "### Transform the time values to actual time data\n",
        "### ------------------------------------------------------------------------------------\n",
        "a = np.datetime64(\"0000-01-01\")  # Epoch used by matlab\n",
        "b = np.datetime64(\"1970-01-01\")  # Unix epoch, default in python\n",
        "diff = b - a\n",
        "chla[\"time\"] = pd.to_datetime(\n",
        "    np.round(data[\"chl_time\"].flatten()) - diff.astype(int), unit=\"D\"\n",
        ")\n",
        "sst[\"time\"] = pd.to_datetime(\n",
        "    np.round(data[\"sst_time\"].flatten()) - diff.astype(int), unit=\"D\"\n",
        ")"
      ]
    },
    {
      "cell_type": "code",
      "execution_count": null,
      "metadata": {
        "id": "00QXYBjrPdia"
      },
      "outputs": [],
      "source": [
        "### ------------------------------------------------------------------------------------\n",
        "### Set the time index\n",
        "### ------------------------------------------------------------------------------------\n",
        "chla = chla.set_index(\"time\")\n",
        "sst = sst.set_index(\"time\")"
      ]
    },
    {
      "cell_type": "code",
      "execution_count": null,
      "metadata": {
        "id": "MgUxb5bCPdia"
      },
      "outputs": [],
      "source": [
        "### ------------------------------------------------------------------------------------\n",
        "### Subset the data (18 years for chla, 14 for sst)\n",
        "### ------------------------------------------------------------------------------------\n",
        "chla_subset = chla.query(\"19980701 <= time <= 20160731\")\n",
        "sst_subset = sst.query(\"20021001 <= time <= 20161031\")"
      ]
    },
    {
      "cell_type": "markdown",
      "metadata": {
        "id": "iwT4ZDncPdic"
      },
      "source": [
        "#### 2. Eliminação de tendências e cálculo das anomalias\n",
        "**a) Escolha as séries de TSM e CHL em um determinado local (lon, lat) para as análises**  \n",
        "  \n",
        "Ponto escolhido: `P4`  \n",
        "  \n",
        "**b) Plote ambas as séries na mesma figura (subplot.m)**"
      ]
    },
    {
      "cell_type": "code",
      "execution_count": null,
      "metadata": {
        "id": "vfKDbTliPdif"
      },
      "outputs": [],
      "source": [
        "### ------------------------------------------------------------------------------------\n",
        "### Plot the series\n",
        "### ------------------------------------------------------------------------------------\n",
        "fig = plt.figure(figsize=(10, 5), dpi=300)\n",
        "ax1 = fig.add_subplot(211)\n",
        "ax2 = fig.add_subplot(212, sharex=ax1)\n",
        "### Subplot 1: Chla\n",
        "chla_subset.P4.plot(ax=ax1, color=\"green\")\n",
        "ax1.grid(linestyle=\"dashed\", alpha=0.3)\n",
        "ax1.set_title(\"Chlorophyll-a Concentration - P4 (37°S, 50°W)\", loc=\"left\")\n",
        "ax1.set_ylabel(\"Chla (mg $m^{-1}$)\")\n",
        "### Subplot 2: SST\n",
        "sst_subset.P4.plot(ax=ax2, color=\"red\")\n",
        "ax2.grid(linestyle=\"dashed\", alpha=0.3)\n",
        "ax2.set_title(\"Sea Surface Temperature - P4 (37°S, 50°W)\", loc=\"left\")\n",
        "ax2.set_ylabel(\"SST (°C)\")\n",
        "### Final touch\n",
        "fig.tight_layout()\n",
        "plt.show()"
      ]
    },
    {
      "cell_type": "markdown",
      "metadata": {
        "id": "0tVPS-v2Pdig"
      },
      "source": [
        "**c) Analisando visualmente as séries, é possível perceber alguma tendência nas séries? É possível perceber visualmente alguma relação entre TSM e CHL? Se sim, explique a razão da dependência**  "
      ]
    },
    {
      "cell_type": "markdown",
      "metadata": {
        "id": "Sa9fVIJVPdih"
      },
      "source": [
        "Nem SST nem clorofila parecem ter uma tendência no ponto escolhido (P4). Aparentemente, os maiores valores de clorofila encontram-se relacionados com os menores valores de temperatura. Essa relação pode ser devido a dois processos diferentes:\n",
        "\n",
        "* Durante o inverno, a coluna de água tem uma menor estabilidade e ocorre uma maior mistura, o que traz nutrientes para a zona eufótica e aumenta a produtividade primária.  \n",
        "\n",
        "* Ocorre um processo de ressurgência costeira, o que traz águas frias e nutrientes ao mesmo tempo, o que explica a correlação das duas variáveis."
      ]
    },
    {
      "cell_type": "markdown",
      "metadata": {
        "id": "B7APZVgYPdih"
      },
      "source": [
        "**d) No caso da série de CHL, aplique a função logarítmo log10(CHL) para converter os valores de CHL, e refaça o item (b)**"
      ]
    },
    {
      "cell_type": "code",
      "execution_count": null,
      "metadata": {
        "id": "V7-hYTw-Pdii"
      },
      "outputs": [],
      "source": [
        "### ------------------------------------------------------------------------------------\n",
        "### Plot the series\n",
        "### ------------------------------------------------------------------------------------\n",
        "fig = plt.figure(figsize=(10, 5), dpi=300)\n",
        "ax1 = fig.add_subplot(211)\n",
        "ax2 = fig.add_subplot(212, sharex=ax1)\n",
        "### Subplot 1: Chla\n",
        "np.log10(chla_subset.P4).plot(ax=ax1, color=\"green\")\n",
        "ax1.grid(linestyle=\"dashed\", alpha=0.3)\n",
        "ax1.set_title(\"Chlorophyll-a Concentration - P4 (37°S, 50°W)\", loc=\"left\")\n",
        "ax1.set_ylabel(\"log$_{10}$[Chla] (mg $m^{-1}$)\")\n",
        "### Subplot 2: SST\n",
        "sst_subset.P4.plot(ax=ax2, color=\"red\")\n",
        "ax2.grid(linestyle=\"dashed\", alpha=0.3)\n",
        "ax2.set_title(\"Sea Surface Temperature - P4 (37°S, 50°W)\", loc=\"left\")\n",
        "ax2.set_ylabel(\"SST (°C)\")\n",
        "### Final touch\n",
        "fig.tight_layout()\n",
        "plt.show()"
      ]
    },
    {
      "cell_type": "markdown",
      "metadata": {
        "id": "fKrUjLXBPdij"
      },
      "source": [
        "**e) Remova a tendência das séries, se existir (detrend.m)**"
      ]
    },
    {
      "cell_type": "code",
      "execution_count": null,
      "metadata": {
        "id": "KFkkcoXoPdij"
      },
      "outputs": [],
      "source": [
        "### ------------------------------------------------------------------------------------\n",
        "### Define a function to detrend the data\n",
        "### ------------------------------------------------------------------------------------\n",
        "def linear_detrend(series):\n",
        "    new_series = series.reset_index(drop=True)\n",
        "    clean_series = new_series.dropna()\n",
        "    regression = np.polynomial.Polynomial.fit(\n",
        "        clean_series.index.values, clean_series.values, deg=1\n",
        "    )\n",
        "    coef = regression.convert().coef\n",
        "    detrended_series = series - ((coef[1] * new_series.index.values) + coef[0])\n",
        "    return detrended_series"
      ]
    },
    {
      "cell_type": "code",
      "execution_count": null,
      "metadata": {
        "id": "veyiLNb7Pdik"
      },
      "outputs": [],
      "source": [
        "### ------------------------------------------------------------------------------------\n",
        "### Detrend the data\n",
        "### ------------------------------------------------------------------------------------\n",
        "chla_p4 = linear_detrend(np.log10(chla.P4.squeeze()))\n",
        "sst_p4 = linear_detrend(sst.P4.squeeze())"
      ]
    },
    {
      "cell_type": "markdown",
      "metadata": {
        "id": "LlCcZEBIPdik"
      },
      "source": [
        "**f) Plote novamente as séries de TSM e CHL. Se os itens acima foram executados corretamente, você estará vendo agora as anomalias da TSM e do log10(CHL)**"
      ]
    },
    {
      "cell_type": "code",
      "execution_count": null,
      "metadata": {
        "id": "licBFl5vPdil"
      },
      "outputs": [],
      "source": [
        "### ------------------------------------------------------------------------------------\n",
        "### Plot the detrended series\n",
        "### ------------------------------------------------------------------------------------\n",
        "fig = plt.figure(figsize=(10, 5), dpi=300)\n",
        "ax1 = fig.add_subplot(211)\n",
        "ax2 = fig.add_subplot(212, sharex=ax1)\n",
        "### Subplot 1: Chla\n",
        "chla_p4.plot(ax=ax1, color=\"green\")\n",
        "ax1.grid(linestyle=\"dashed\", alpha=0.3)\n",
        "ax1.set_title(\"Chlorophyll-a Concentration anomaly - P4 (37°S, 50°W)\", loc=\"left\")\n",
        "ax1.set_ylabel(\"log$_{10}$[Chla] (mg $m^{-1}$)\")\n",
        "### Subplot 2: SST\n",
        "sst_p4.plot(ax=ax2, color=\"red\")\n",
        "ax2.grid(linestyle=\"dashed\", alpha=0.3)\n",
        "ax2.set_title(\"Sea Surface Temperature anomaly - P4 (37°S, 50°W)\", loc=\"left\")\n",
        "ax2.set_ylabel(\"SST (°C)\")\n",
        "### Final touch\n",
        "fig.tight_layout()\n",
        "plt.show()"
      ]
    },
    {
      "cell_type": "markdown",
      "metadata": {
        "id": "XJmewG6hPdil"
      },
      "source": [
        "#### 3. Determinação das constantes da Série de Fourier e reconstrução da série  \n",
        "**a) Qual o comprimento de cada série (quantos anos)? Qual a frequência fundamental?**\n"
      ]
    },
    {
      "cell_type": "code",
      "execution_count": null,
      "metadata": {
        "id": "c85TL1MgPdim"
      },
      "outputs": [],
      "source": [
        "### ------------------------------------------------------------------------------------\n",
        "### Return the info\n",
        "### ------------------------------------------------------------------------------------\n",
        "print(\n",
        "    f\"O comprimento da série de Chla é {len(chla_p4)} semanas (~{round(len(chla_p4)/46, 2)} anos) e sua frequencia fundamental é {round(1/len(chla_p4), 4)}\"\n",
        ")\n",
        "print(\n",
        "    f\"O comprimento da série de SST é {len(sst_p4)} semanas (~{round(len(sst_p4)/46, 2)} anos) e sua frequencia fundamental é {round(1/len(sst_p4), 4)}\"\n",
        ")"
      ]
    },
    {
      "cell_type": "markdown",
      "metadata": {
        "id": "zF4UsMpFPdin"
      },
      "source": [
        "**b) Calcule os coeficientes da Série de Fourier para ambas as séries (calculate_fourier_coef.m)**\n"
      ]
    },
    {
      "cell_type": "code",
      "execution_count": null,
      "metadata": {
        "id": "_H1avOIQPdin"
      },
      "outputs": [],
      "source": [
        "### ------------------------------------------------------------------------------------\n",
        "### Define the function to calculate the coeff\n",
        "### ------------------------------------------------------------------------------------\n",
        "def calculate_fourier_coeff(series):\n",
        "    series = series.reset_index(drop=True)\n",
        "    N = len(series)\n",
        "    p_array = np.arange(1, (N // 2) + 1, 1)\n",
        "    n_array = np.arange(1, (N + 1), 1)\n",
        "    a = []\n",
        "    b = []\n",
        "    T = []\n",
        "    f = []\n",
        "    for p in p_array:\n",
        "        alpha = 0\n",
        "        beta = 0\n",
        "        for n in n_array:\n",
        "            alpha = alpha + (2 / N) * (\n",
        "                series.iloc[n - 1] * np.cos((2 * np.pi * n * p) / N)\n",
        "            )\n",
        "            beta = beta + (2 / N) * (\n",
        "                series.iloc[n - 1] * np.sin((2 * np.pi * n * p) / N)\n",
        "            )\n",
        "        a.append(alpha)\n",
        "        b.append(beta)\n",
        "        T.append(N / p)\n",
        "        f.append(p / N)\n",
        "\n",
        "    A0 = 2 * series.mean()\n",
        "    A = np.insert(a, 0, A0)\n",
        "    B = np.insert(b, 0, 0)\n",
        "    f = np.insert(f, 0, np.nan)\n",
        "    T = np.insert(T, 0, np.nan)\n",
        "    C = np.sqrt((A**2) + (B**2))\n",
        "    theta = np.arctan2(B, A) * (180 / np.pi)\n",
        "    theta[0] = np.nan\n",
        "    data = {\"A\": A, \"B\": B, \"C\": C, \"theta\": theta, \"f\": f, \"T\": T}\n",
        "    results_df = pd.DataFrame(data)\n",
        "    return results_df"
      ]
    },
    {
      "cell_type": "code",
      "execution_count": null,
      "metadata": {
        "id": "1OrsmBVAPdio"
      },
      "outputs": [],
      "source": [
        "### ------------------------------------------------------------------------------------\n",
        "### Calculate the coeff\n",
        "### ------------------------------------------------------------------------------------\n",
        "coef_chla = calculate_fourier_coeff(chla_p4)\n",
        "coef_sst = calculate_fourier_coeff(sst_p4)"
      ]
    },
    {
      "cell_type": "markdown",
      "metadata": {
        "id": "i-O7QyXnPdio"
      },
      "source": [
        "**c) Monte uma pequena tabela, ordenando os coeficientes do maior para o menor, com as respectivas frequências e períodos**\n"
      ]
    },
    {
      "cell_type": "code",
      "execution_count": null,
      "metadata": {
        "id": "102hWs8MPdip"
      },
      "outputs": [],
      "source": [
        "### ------------------------------------------------------------------------------------\n",
        "### Make the table for chla\n",
        "### ------------------------------------------------------------------------------------\n",
        "coef_chla_sorted = coef_chla.sort_values(by=[\"C\"], ascending=False).reset_index(\n",
        "    drop=True\n",
        ")\n",
        "coef_chla_sorted.head(8)"
      ]
    },
    {
      "cell_type": "code",
      "execution_count": null,
      "metadata": {
        "id": "wXV14X5APdip"
      },
      "outputs": [],
      "source": [
        "### ------------------------------------------------------------------------------------\n",
        "### Make the table for sst\n",
        "### ------------------------------------------------------------------------------------\n",
        "coef_sst_sorted = coef_sst.sort_values(by=[\"C\"], ascending=False).reset_index(drop=True)\n",
        "coef_sst_sorted.head(8)"
      ]
    },
    {
      "cell_type": "markdown",
      "metadata": {
        "id": "e6lafQrMPdip"
      },
      "source": [
        "**d) Faça um gráfico de TSM x tempo, e outro de CHL x tempo, apenas para as frequências que apresentaram as maiores amplitudes (de 4 a 6 frequências, as dominantes). Utilize a função calculate_fourier_series2.m para a reconstrução das séries somente com as frequências obtidas**"
      ]
    },
    {
      "cell_type": "code",
      "execution_count": null,
      "metadata": {
        "id": "9ZCxmJq-Pdiq"
      },
      "outputs": [],
      "source": [
        "### ------------------------------------------------------------------------------------\n",
        "### Define function to reconstruct the series\n",
        "### ------------------------------------------------------------------------------------\n",
        "def reconstruct_fourier_series(A, B, f, N):\n",
        "    Na = len(A)\n",
        "    Nb = len(B)\n",
        "    if Na != Nb:\n",
        "        print(\"Error: A and B must have the same size\")\n",
        "        return\n",
        "    y = np.zeros((Na, N))\n",
        "    i = np.arange(1, N + 1, 1)\n",
        "    p_array = np.arange(Na)\n",
        "    for p in p_array:\n",
        "        y[p,] = A[p] * np.cos(2 * np.pi * f[p] * i) + B[p] * np.sin(\n",
        "            2 * np.pi * f[p] * i\n",
        "        )\n",
        "    Y = 0.5 * A[0] + np.sum(y, axis=0)\n",
        "    return y, Y"
      ]
    },
    {
      "cell_type": "code",
      "execution_count": null,
      "metadata": {
        "id": "cIfBIs4aPdiq"
      },
      "outputs": [],
      "source": [
        "### ------------------------------------------------------------------------------------\n",
        "### Reconstruct the series (principal coeff)\n",
        "### ------------------------------------------------------------------------------------\n",
        "chla_p4_r_single, chla_p4_r_complete = reconstruct_fourier_series(\n",
        "    coef_chla_sorted[\"A\"][0:6],\n",
        "    coef_chla_sorted[\"B\"][0:6],\n",
        "    coef_chla_sorted[\"f\"][0:6],\n",
        "    len(chla_p4),\n",
        ")\n",
        "\n",
        "sst_p4_r_single, sst_p4_r_complete = reconstruct_fourier_series(\n",
        "    coef_sst_sorted[\"A\"][0:6],\n",
        "    coef_sst_sorted[\"B\"][0:6],\n",
        "    coef_sst_sorted[\"f\"][0:6],\n",
        "    len(sst_p4),\n",
        ")"
      ]
    },
    {
      "cell_type": "code",
      "execution_count": null,
      "metadata": {
        "id": "mi5D5jczPdiq"
      },
      "outputs": [],
      "source": [
        "### ------------------------------------------------------------------------------------\n",
        "### Plot the principal coeff\n",
        "### ------------------------------------------------------------------------------------\n",
        "fig = plt.figure(figsize=(10, 10), dpi=300)\n",
        "ax1 = fig.add_subplot(411)\n",
        "ax2 = fig.add_subplot(412, sharex=ax1)\n",
        "ax3 = fig.add_subplot(413, sharex=ax1)\n",
        "ax4 = fig.add_subplot(414, sharex=ax1)\n",
        "### Subplot 1: Chla\n",
        "chla_p4.plot(ax=ax1, color=\"green\")\n",
        "ax1.grid(linestyle=\"dashed\", alpha=0.3)\n",
        "ax1.set_title(\n",
        "    \"Chlorophyll-a Concentration anomaly - P4 (37°S, 50°W) | original data\", loc=\"left\"\n",
        ")\n",
        "ax1.set_ylabel(\"log$_{10}$[Chla] (mg $m^{-1}$)\")\n",
        "### Subplot 2: Chla-reconstructed\n",
        "for n in np.arange(len(chla_p4_r_single)):\n",
        "    ax2.plot(chla_p4.index, chla_p4_r_single[n], alpha=0.3, linestyle=\"dashed\")\n",
        "ax2.plot(chla_p4.index, chla_p4_r_complete, color=\"green\")\n",
        "ax2.grid(linestyle=\"dashed\", alpha=0.3)\n",
        "ax2.set_title(\n",
        "    \"Chlorophyll-a Concentration anomaly - P4 (37°S, 50°W) | reconstructed data (6 dominant f)\",\n",
        "    loc=\"left\",\n",
        ")\n",
        "ax2.set_ylabel(\"log$_{10}$[Chla] (mg $m^{-1}$)\")\n",
        "### Subplot 3: SST\n",
        "sst_p4.plot(ax=ax3, color=\"red\")\n",
        "ax3.grid(linestyle=\"dashed\", alpha=0.3)\n",
        "ax3.set_title(\n",
        "    \"Sea Surface Temperature anomaly - P4 (37°S, 50°W) | original data\", loc=\"left\"\n",
        ")\n",
        "ax3.set_ylabel(\"SST (°C)\")\n",
        "### Subplot 4: SST Reconstructed\n",
        "for n in np.arange(len(sst_p4_r_single)):\n",
        "    ax4.plot(sst_p4.index, sst_p4_r_single[n], alpha=0.3, linestyle=\"dashed\")\n",
        "ax4.plot(sst_p4.index, sst_p4_r_complete, color=\"red\")\n",
        "ax4.grid(linestyle=\"dashed\", alpha=0.3)\n",
        "ax4.set_title(\n",
        "    \"Sea Surface Temperature anomaly - P4 (37°S, 50°W) | reconstructed data (6 dominant f)\",\n",
        "    loc=\"left\",\n",
        ")\n",
        "ax4.set_ylabel(\"SST (°C)\")\n",
        "### Final touch\n",
        "fig.tight_layout()\n",
        "plt.show()"
      ]
    },
    {
      "cell_type": "markdown",
      "metadata": {
        "id": "vhpZ71hOPdiq"
      },
      "source": [
        "**e) Reconstrua as séries (calculate_fourier_series2.m) com todas as frequências obtidas, desde a fundamental até a maior de todas**\n"
      ]
    },
    {
      "cell_type": "code",
      "execution_count": null,
      "metadata": {
        "id": "wJrPN4gJPdir"
      },
      "outputs": [],
      "source": [
        "### ------------------------------------------------------------------------------------\n",
        "### Reconstruct the series (all coeff)\n",
        "### ------------------------------------------------------------------------------------\n",
        "chla_p4_fullr_single, chla_p4_fullr_complete = reconstruct_fourier_series(\n",
        "    coef_chla[\"A\"][1:].reset_index(drop=True),\n",
        "    coef_chla[\"B\"][1:].reset_index(drop=True),\n",
        "    coef_chla[\"f\"][1:].reset_index(drop=True),\n",
        "    len(chla_p4),\n",
        ")\n",
        "\n",
        "sst_p4_fullr_single, sst_p4_fullr_complete = reconstruct_fourier_series(\n",
        "    coef_sst[\"A\"][1:].reset_index(drop=True),\n",
        "    coef_sst[\"B\"][1:].reset_index(drop=True),\n",
        "    coef_sst[\"f\"][1:].reset_index(drop=True),\n",
        "    len(sst_p4),\n",
        ")"
      ]
    },
    {
      "cell_type": "code",
      "execution_count": null,
      "metadata": {
        "id": "4EVXyWr1Pdir"
      },
      "outputs": [],
      "source": [
        "### ------------------------------------------------------------------------------------\n",
        "### Plot the reconstructed series\n",
        "### ------------------------------------------------------------------------------------\n",
        "fig = plt.figure(figsize=(10, 5), dpi=300)\n",
        "ax1 = fig.add_subplot(211)\n",
        "ax2 = fig.add_subplot(212, sharex=ax1)\n",
        "### Subplot 1: Chla\n",
        "chla_p4.plot(ax=ax1, color=\"green\", alpha=0.5, label=\"Original\")\n",
        "ax1.plot(\n",
        "    chla_p4.index,\n",
        "    chla_p4_fullr_complete,\n",
        "    color=\"black\",\n",
        "    linestyle=\"dotted\",\n",
        "    alpha=0.6,\n",
        "    label=\"Reconstructed\",\n",
        ")\n",
        "ax1.grid(linestyle=\"dashed\", alpha=0.3)\n",
        "ax1.set_title(\"Chlorophyll-a Concentration anomaly - P4 (37°S, 50°W)\", loc=\"left\")\n",
        "ax1.set_ylabel(\"log$_{10}$[Chla] (mg $m^{-1}$)\")\n",
        "ax1.legend()\n",
        "### Subplot 2: SST\n",
        "sst_p4.plot(ax=ax2, color=\"red\", alpha=0.5, label=\"Original\")\n",
        "ax2.plot(\n",
        "    sst_p4.index,\n",
        "    sst_p4_fullr_complete,\n",
        "    color=\"black\",\n",
        "    linestyle=\"dotted\",\n",
        "    alpha=0.6,\n",
        "    label=\"Reconstructed\",\n",
        ")\n",
        "ax2.grid(linestyle=\"dashed\", alpha=0.3)\n",
        "ax2.set_title(\"Sea Surface Temperature anomaly - P4 (37°S, 50°W)\", loc=\"left\")\n",
        "ax2.set_ylabel(\"SST (°C)\")\n",
        "ax2.legend()\n",
        "### Final touch\n",
        "fig.tight_layout()\n",
        "plt.show()"
      ]
    },
    {
      "cell_type": "markdown",
      "metadata": {
        "id": "zqoVX5dZPdis"
      },
      "source": [
        "**f) Comente os resultados**  \n"
      ]
    },
    {
      "cell_type": "markdown",
      "metadata": {
        "id": "e6nbQ52ePdis"
      },
      "source": [
        "Para as duas séries avaliadas, a frequência que apresentou a maior amplitude foi a frequência correspondente ao periodo de ~47 semanas, que representa o ciclo anual dos dados. Usando as primeiras 6 frequências para reconstruir as séries, foi possível obter uma reconstrução que representou muito bem as baixas frequências das duas séries avaliadas. Usando todos os coeficientes da série de Fourier, foi possível reconstruir integralmente ambas séries."
      ]
    },
    {
      "cell_type": "markdown",
      "metadata": {
        "id": "btnNANR8Pdis"
      },
      "source": [
        "#### 4. Reconstrução da série apenas com a frequência anual\n",
        "**a) Plote os ciclos anual e semi-anual de TSM e CHL sobrepostos às séries originais de TSM e CHL, com cores distintas**\n"
      ]
    },
    {
      "cell_type": "code",
      "execution_count": null,
      "metadata": {
        "id": "pQ-1Uh3nPdit"
      },
      "outputs": [],
      "source": [
        "### ------------------------------------------------------------------------------------\n",
        "### Calculate the semi-annual cycle of sst\n",
        "### ------------------------------------------------------------------------------------\n",
        "sst_semianual = reconstruct_fourier_series(\n",
        "    coef_sst_sorted[\"A\"][7:8].reset_index(drop=True),\n",
        "    coef_sst_sorted[\"B\"][7:8].reset_index(drop=True),\n",
        "    coef_sst_sorted[\"f\"][7:8].reset_index(drop=True),\n",
        "    len(sst_p4),\n",
        ")"
      ]
    },
    {
      "cell_type": "code",
      "execution_count": null,
      "metadata": {
        "id": "0Y3VYQmgPdit"
      },
      "outputs": [],
      "source": [
        "### ------------------------------------------------------------------------------------\n",
        "### Plot the cycles\n",
        "### ------------------------------------------------------------------------------------\n",
        "fig = plt.figure(figsize=(10, 5), dpi=300)\n",
        "ax1 = fig.add_subplot(211)\n",
        "ax2 = fig.add_subplot(212, sharex=ax1)\n",
        "### Subplot 1: Chla\n",
        "chla_p4.plot(ax=ax1, color=\"green\", alpha=0.5, label=\"Original\")\n",
        "ax1.plot(\n",
        "    chla_p4.index,\n",
        "    chla_p4_r_single[2],\n",
        "    color=\"blue\",\n",
        "    linestyle=\"dashed\",\n",
        "    alpha=0.8,\n",
        "    label=\"Semi-Annual\",\n",
        ")\n",
        "ax1.plot(chla_p4.index, chla_p4_r_single[0], color=\"black\", alpha=0.8, label=\"Annual\")\n",
        "ax1.grid(linestyle=\"dashed\", alpha=0.3)\n",
        "ax1.set_title(\"Chlorophyll-a Concentration anomaly - P4 (37°S, 50°W)\", loc=\"left\")\n",
        "ax1.set_ylabel(\"log$_{10}$[Chla] (mg $m^{-1}$)\")\n",
        "ax1.legend()\n",
        "### Subplot 2: SST\n",
        "sst_p4.plot(ax=ax2, color=\"red\", alpha=0.5, label=\"Original\")\n",
        "ax2.plot(\n",
        "    sst_p4.index,\n",
        "    sst_semianual[0].flatten(),\n",
        "    color=\"blue\",\n",
        "    linestyle=\"dashed\",\n",
        "    alpha=0.8,\n",
        "    label=\"Semi-Annual\",\n",
        ")\n",
        "ax2.plot(sst_p4.index, sst_p4_r_single[0], color=\"black\", alpha=0.8, label=\"Annual\")\n",
        "ax2.grid(linestyle=\"dashed\", alpha=0.3)\n",
        "ax2.set_title(\"Sea Surface Temperature anomaly - P4 (37°S, 50°W)\", loc=\"left\")\n",
        "ax2.set_ylabel(\"SST (°C)\")\n",
        "ax2.legend()\n",
        "### Final touch\n",
        "fig.tight_layout()\n",
        "plt.show()"
      ]
    },
    {
      "cell_type": "markdown",
      "metadata": {
        "id": "nPctRUOpPdiu"
      },
      "source": [
        "**b) Plote os resíduos entre as séries (original – ciclo anual). Ou seja, você está agora visualizando os dados de TSM e CHL sem o ciclo anual**"
      ]
    },
    {
      "cell_type": "code",
      "execution_count": null,
      "metadata": {
        "id": "FIwH25FZPdiu"
      },
      "outputs": [],
      "source": [
        "### ------------------------------------------------------------------------------------\n",
        "### Plot the residue\n",
        "### ------------------------------------------------------------------------------------\n",
        "fig = plt.figure(figsize=(10, 5), dpi=300)\n",
        "ax1 = fig.add_subplot(211)\n",
        "ax2 = fig.add_subplot(212, sharex=ax1)\n",
        "### Subplot 1: Chla\n",
        "chla_p4.plot(ax=ax1, color=\"green\", alpha=0.3, label=\"Original\")\n",
        "ax1.plot(\n",
        "    chla_p4.index,\n",
        "    chla_p4 - chla_p4_r_single[0],\n",
        "    color=\"black\",\n",
        "    alpha=0.8,\n",
        "    label=\"Residual\",\n",
        ")\n",
        "ax1.grid(linestyle=\"dashed\", alpha=0.3)\n",
        "ax1.set_title(\"Chlorophyll-a Concentration anomaly - P4 (37°S, 50°W)\", loc=\"left\")\n",
        "ax1.set_ylabel(\"log$_{10}$[Chla] (mg $m^{-1}$)\")\n",
        "ax1.legend()\n",
        "### Subplot 2: SST\n",
        "sst_p4.plot(ax=ax2, color=\"red\", alpha=0.3, label=\"Original\")\n",
        "ax2.plot(\n",
        "    sst_p4.index,\n",
        "    sst_p4 - sst_p4_r_single[0],\n",
        "    color=\"black\",\n",
        "    alpha=0.8,\n",
        "    label=\"Residual\",\n",
        ")\n",
        "ax2.grid(linestyle=\"dashed\", alpha=0.3)\n",
        "ax2.set_title(\"Sea Surface Temperature anomaly - P4 (37°S, 50°W)\", loc=\"left\")\n",
        "ax2.set_ylabel(\"SST (°C)\")\n",
        "ax2.legend()\n",
        "### Final touch\n",
        "fig.tight_layout()\n",
        "plt.show()"
      ]
    },
    {
      "cell_type": "markdown",
      "metadata": {
        "id": "8XGgTKg3Pdiv"
      },
      "source": [
        "**c) Discuta os resultados**"
      ]
    },
    {
      "cell_type": "markdown",
      "metadata": {
        "id": "BUJWhGRVPdiv"
      },
      "source": [
        "Para as duas séries avaliadas, o ciclo anual foi construído utilizando somente os dados do coeficiente de Fourier correspondente a um período de 47 semanas. Dessa forma, a amplitude dessa frequência, isoladamente, não é significativa, tornando as séries residuais pouco distintas das séries originais. A variabilidade anual ainda é perceptível, sobretudo nos dados de temperatura. Uma abordagem que poderia aprimorar a eliminação dessa variabilidade anual seria empregar as seis frequências dominantes, que representam com maior precisão o ciclo anual de variação de temperatura e clorofila."
      ]
    }
  ],
  "metadata": {
    "kernelspec": {
      "display_name": "science",
      "language": "python",
      "name": "python3"
    },
    "language_info": {
      "codemirror_mode": {
        "name": "ipython",
        "version": 3
      },
      "file_extension": ".py",
      "mimetype": "text/x-python",
      "name": "python",
      "nbconvert_exporter": "python",
      "pygments_lexer": "ipython3",
      "version": "3.11.6"
    },
    "orig_nbformat": 4,
    "colab": {
      "provenance": [],
      "include_colab_link": true
    }
  },
  "nbformat": 4,
  "nbformat_minor": 0
}